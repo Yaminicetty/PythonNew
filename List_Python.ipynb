{
  "nbformat": 4,
  "nbformat_minor": 0,
  "metadata": {
    "colab": {
      "name": "List.Python",
      "provenance": [],
      "collapsed_sections": [],
      "authorship_tag": "ABX9TyMIgT3Z4Z1tbsPL4r+O0T3s",
      "include_colab_link": true
    },
    "kernelspec": {
      "name": "python3",
      "display_name": "Python 3"
    },
    "language_info": {
      "name": "python"
    }
  },
  "cells": [
    {
      "cell_type": "markdown",
      "metadata": {
        "id": "view-in-github",
        "colab_type": "text"
      },
      "source": [
        "<a href=\"https://colab.research.google.com/github/Yaminicetty/PythonNew/blob/Module-2/List_Python.ipynb\" target=\"_parent\"><img src=\"https://colab.research.google.com/assets/colab-badge.svg\" alt=\"Open In Colab\"/></a>"
      ]
    },
    {
      "cell_type": "code",
      "execution_count": null,
      "metadata": {
        "colab": {
          "base_uri": "https://localhost:8080/"
        },
        "id": "EAERUSyHWSlR",
        "outputId": "3f1d32fe-9daa-4ccd-86e9-94a5e5129720"
      },
      "outputs": [
        {
          "output_type": "stream",
          "name": "stdout",
          "text": [
            "('banana', 'mango', 'apple', 'Grapes', 'orange')\n",
            "apple\n",
            "Grapes\n",
            "('Grapes', 'orange')\n",
            "('banana', 'mango', 'apple')\n",
            "('apple', 'Grapes', 'orange')\n",
            "('banana',)\n"
          ]
        }
      ],
      "source": [
        "#list\n",
        "fruit=(\"banana\",\"mango\",\"apple\",\"Grapes\",\"orange\")\n",
        "print(fruit)\n",
        "print(fruit[2])\n",
        "print(fruit[-2])\n",
        "print(fruit[3:5])\n",
        "print(fruit[:3])\n",
        "print(fruit[2:])\n",
        "print(fruit[:1])"
      ]
    },
    {
      "cell_type": "code",
      "source": [
        "#append\n",
        "fruit= [\"banana\",\"mango\",\"apple\",\"Grapes\",\"orange\"]\n",
        "print(fruit)\n",
        "fruit.append(\"kiwi\")                     #adding name using append\n",
        "print(fruit)\n",
        "fruit.insert(2,\"jackfruit\")          #inserting name"
      ],
      "metadata": {
        "colab": {
          "base_uri": "https://localhost:8080/"
        },
        "id": "x4jcIENoWrgZ",
        "outputId": "1f09e9bc-d0b8-46e9-c94e-0c8a38495891"
      },
      "execution_count": null,
      "outputs": [
        {
          "output_type": "stream",
          "name": "stdout",
          "text": [
            "['banana', 'mango', 'apple', 'Grapes', 'orange']\n",
            "['banana', 'mango', 'apple', 'Grapes', 'orange', 'kiwi']\n"
          ]
        }
      ]
    },
    {
      "cell_type": "code",
      "source": [
        "# Insert\n",
        "fruit= [\"banana\",\"mango\",\"apple\",\"kiwi\",\"orange\"]   #insert image\n",
        "print(fruit)\n",
        "fruit.insert(3,\"grapes\")\n",
        "print(fruit)\n",
        "\n"
      ],
      "metadata": {
        "colab": {
          "base_uri": "https://localhost:8080/"
        },
        "id": "MBOfsbkTamM3",
        "outputId": "1f407dd6-7684-4d37-8c39-e44be6f97c6f"
      },
      "execution_count": null,
      "outputs": [
        {
          "output_type": "stream",
          "name": "stdout",
          "text": [
            "['banana', 'mango', 'apple', 'kiwi', 'orange']\n",
            "['banana', 'mango', 'apple', 'grapes', 'kiwi', 'orange']\n"
          ]
        }
      ]
    },
    {
      "cell_type": "code",
      "source": [
        "# remove\n",
        "fruit= [\"banana\",\"mango\",\"apple\",\"grapes\",\"orange\"]         #remove command\n",
        "print(fruit)\n",
        "fruit.remove('grapes')\n",
        "print(fruit)\n"
      ],
      "metadata": {
        "colab": {
          "base_uri": "https://localhost:8080/"
        },
        "id": "A8m2aFYYcR4H",
        "outputId": "f98b3a71-7b33-4889-a977-70bbfebbb9d5"
      },
      "execution_count": null,
      "outputs": [
        {
          "output_type": "stream",
          "name": "stdout",
          "text": [
            "['banana', 'mango', 'apple', 'grapes', 'orange']\n",
            "['banana', 'mango', 'apple', 'orange']\n"
          ]
        }
      ]
    },
    {
      "cell_type": "code",
      "source": [
        ""
      ],
      "metadata": {
        "id": "xIygYttqjGuG"
      },
      "execution_count": null,
      "outputs": []
    },
    {
      "cell_type": "code",
      "source": [
        "#pop\n",
        "fruit= [\"banana\",\"mango\",\"apple\",\"grapes\",\"orange\"]         #remove command\n",
        "print(fruit)\n",
        "fruit.pop(2)\n",
        "print(fruit)"
      ],
      "metadata": {
        "colab": {
          "base_uri": "https://localhost:8080/"
        },
        "id": "e0QLnUmsc_B3",
        "outputId": "7dfbc8be-de14-44ef-9063-ad26ee6118e8"
      },
      "execution_count": null,
      "outputs": [
        {
          "output_type": "stream",
          "name": "stdout",
          "text": [
            "['banana', 'mango', 'apple', 'grapes', 'orange']\n",
            "['banana', 'mango', 'grapes', 'orange']\n"
          ]
        }
      ]
    },
    {
      "cell_type": "code",
      "source": [
        "#clear\n",
        "fruit= [\"banana\",\"mango\",\"apple\",\"grapes\",\"orange\"]    # clears all the data\n",
        "print(fruit)\n",
        "fruit.clear()\n",
        "print(fruit)"
      ],
      "metadata": {
        "colab": {
          "base_uri": "https://localhost:8080/"
        },
        "id": "Ul1eyoxigN23",
        "outputId": "2fbe4474-934f-42b8-8496-ac5d94ee9293"
      },
      "execution_count": null,
      "outputs": [
        {
          "output_type": "stream",
          "name": "stdout",
          "text": [
            "['banana', 'mango', 'apple', 'grapes', 'orange']\n",
            "[]\n"
          ]
        }
      ]
    },
    {
      "cell_type": "code",
      "source": [
        "#sort with strings\n",
        "alphabets= ['b','c','d','e','f','g','h','i','j','k']\n",
        "alphabets.sort()\n",
        "print(alphabets)\n"
      ],
      "metadata": {
        "colab": {
          "base_uri": "https://localhost:8080/"
        },
        "id": "RYvSzUvGi73n",
        "outputId": "e0f37b18-f67d-4917-d502-9afa99632310"
      },
      "execution_count": null,
      "outputs": [
        {
          "output_type": "stream",
          "name": "stdout",
          "text": [
            "['b', 'c', 'd', 'e', 'f', 'g', 'h', 'i', 'j', 'k']\n"
          ]
        }
      ]
    },
    {
      "cell_type": "code",
      "source": [
        "fruit = [\"apple\", \"banana\", \"cherry\"]\n",
        "Fruits2 = fruit.copy()\n",
        "print(Fruits2)\n"
      ],
      "metadata": {
        "colab": {
          "base_uri": "https://localhost:8080/"
        },
        "id": "5J_dqYDMmpgH",
        "outputId": "fd22d413-5e16-4d39-a77c-c07fe16e8c6f"
      },
      "execution_count": null,
      "outputs": [
        {
          "output_type": "stream",
          "name": "stdout",
          "text": [
            "['apple', 'banana', 'cherry']\n"
          ]
        }
      ]
    },
    {
      "cell_type": "code",
      "source": [
        "thislist = [\"apple\", \"banana\", \"cherry\"]       #Print all items in the list, one by one:\n",
        "for x in thislist:\n",
        "  print(x)\n"
      ],
      "metadata": {
        "colab": {
          "base_uri": "https://localhost:8080/"
        },
        "id": "ajoeeO4sLEbx",
        "outputId": "67a3d2e3-0f41-4174-97c9-b925f5bb298c"
      },
      "execution_count": null,
      "outputs": [
        {
          "output_type": "stream",
          "name": "stdout",
          "text": [
            "apple\n",
            "banana\n",
            "cherry\n"
          ]
        }
      ]
    },
    {
      "cell_type": "code",
      "source": [
        "thislist = [\"apple\", \"banana\", \"cherry\"]           #Print all items by referring to their index number:\n",
        "for i in range(len(thislist)):\n",
        "  print(thislist[i])"
      ],
      "metadata": {
        "colab": {
          "base_uri": "https://localhost:8080/"
        },
        "id": "MnzojUuWLJUa",
        "outputId": "95230d3a-acc9-4793-a556-1b888ffaf709"
      },
      "execution_count": null,
      "outputs": [
        {
          "output_type": "stream",
          "name": "stdout",
          "text": [
            "apple\n",
            "banana\n",
            "cherry\n"
          ]
        }
      ]
    },
    {
      "cell_type": "code",
      "source": [
        "thislist = [\"apple\", \"banana\", \"cherry\"]           #print all items, using a while loop to go through all the index numbers\n",
        "i = 0\n",
        "while i < len(thislist):\n",
        "  print(thislist[i])\n",
        "  i = i + 1"
      ],
      "metadata": {
        "colab": {
          "base_uri": "https://localhost:8080/"
        },
        "id": "RO1EhlrBLN5R",
        "outputId": "58793933-47e2-442e-8cf8-cf8bedd7f73a"
      },
      "execution_count": null,
      "outputs": [
        {
          "output_type": "stream",
          "name": "stdout",
          "text": [
            "apple\n",
            "banana\n",
            "cherry\n"
          ]
        }
      ]
    },
    {
      "cell_type": "code",
      "source": [
        "thislist = [\"apple\", \"banana\", \"cherry\"]             #A short hand for loop that will print all items in a list:\n",
        "[print(x) for x in thislist]"
      ],
      "metadata": {
        "colab": {
          "base_uri": "https://localhost:8080/"
        },
        "id": "EaQ-Jdf9LUl_",
        "outputId": "7f626b00-9c64-4167-c0ef-1f4a859139ae"
      },
      "execution_count": null,
      "outputs": [
        {
          "output_type": "stream",
          "name": "stdout",
          "text": [
            "apple\n",
            "banana\n",
            "cherry\n"
          ]
        },
        {
          "output_type": "execute_result",
          "data": {
            "text/plain": [
              "[None, None, None]"
            ]
          },
          "metadata": {},
          "execution_count": 5
        }
      ]
    },
    {
      "cell_type": "code",
      "source": [
        "fruits = [\"apple\", \"banana\", \"cherry\", \"kiwi\", \"mango\"]\n",
        "newlist = []\n",
        "\n",
        "for x in fruits:\n",
        "  if \"a\" in x:\n",
        "    newlist.append(x)\n",
        "\n",
        "print(newlist)"
      ],
      "metadata": {
        "colab": {
          "base_uri": "https://localhost:8080/"
        },
        "id": "mXcjEZrVLZ4W",
        "outputId": "f912486a-22da-4bc2-d419-9c02dfa712c4"
      },
      "execution_count": null,
      "outputs": [
        {
          "output_type": "stream",
          "name": "stdout",
          "text": [
            "['apple', 'banana', 'mango']\n"
          ]
        }
      ]
    },
    {
      "cell_type": "code",
      "source": [
        "fruits = [\"apple\", \"banana\", \"cherry\", \"kiwi\", \"mango\"]\n",
        "\n",
        "newlist = [x for x in fruits if \"a\" in x]\n",
        "\n",
        "print(newlist)\n"
      ],
      "metadata": {
        "colab": {
          "base_uri": "https://localhost:8080/"
        },
        "id": "i1rHYXXwLgXR",
        "outputId": "d0428270-312b-4448-b04a-fe6abb49ad43"
      },
      "execution_count": null,
      "outputs": [
        {
          "output_type": "stream",
          "name": "stdout",
          "text": [
            "['apple', 'banana', 'mango']\n"
          ]
        }
      ]
    },
    {
      "cell_type": "code",
      "source": [
        "sports = [\"bat\", \"ball\", \"gloves\", \"socks\", \"jersey\"]\n",
        "list = [x for x in sports if x != \"ball\"]\n",
        "print(list)\n",
        "                                       #Only accept items that are not \"ball\""
      ],
      "metadata": {
        "colab": {
          "base_uri": "https://localhost:8080/"
        },
        "id": "1HuyEGZWLl59",
        "outputId": "f7154183-9957-4dc2-9b51-0fbb8b115944"
      },
      "execution_count": null,
      "outputs": [
        {
          "output_type": "stream",
          "name": "stdout",
          "text": [
            "['bat', 'gloves', 'socks', 'jersey']\n"
          ]
        }
      ]
    },
    {
      "cell_type": "code",
      "source": [
        "sports = [\"bat\", \"ball\", \"gloves\", \"socks\", \"jersey\"]\n",
        "list = [x for x in sports]\n",
        "print(list)\n",
        "             #With no if statement:"
      ],
      "metadata": {
        "colab": {
          "base_uri": "https://localhost:8080/"
        },
        "id": "-L0aRBDpLrIe",
        "outputId": "ce8cc691-459b-4103-94cd-a9399ce5514e"
      },
      "execution_count": null,
      "outputs": [
        {
          "output_type": "stream",
          "name": "stdout",
          "text": [
            "['bat', 'ball', 'gloves', 'socks', 'jersey']\n"
          ]
        }
      ]
    },
    {
      "cell_type": "code",
      "source": [
        "list = [x for x in range(10)]\n",
        "print(list)\n",
        "       #You can use the range() function to create an iterable:"
      ],
      "metadata": {
        "colab": {
          "base_uri": "https://localhost:8080/"
        },
        "id": "4FNZQcvFLtly",
        "outputId": "3824e4a5-b194-411c-d594-96be2e3370c0"
      },
      "execution_count": null,
      "outputs": [
        {
          "output_type": "stream",
          "name": "stdout",
          "text": [
            "[0, 1, 2, 3, 4, 5, 6, 7, 8, 9]\n"
          ]
        }
      ]
    },
    {
      "cell_type": "code",
      "source": [
        "sports = [\"bat\", \"ball\", \"gloves\", \"socks\", \"jersey\"]\n",
        "list = [x.upper() for x in sports]\n",
        "print(list)\n"
      ],
      "metadata": {
        "colab": {
          "base_uri": "https://localhost:8080/"
        },
        "id": "fV6ZycjyLzYp",
        "outputId": "95c29fb9-ed44-405f-bff4-17e9a9e55f1e"
      },
      "execution_count": null,
      "outputs": [
        {
          "output_type": "stream",
          "name": "stdout",
          "text": [
            "['BAT', 'BALL', 'GLOVES', 'SOCKS', 'JERSEY']\n"
          ]
        }
      ]
    },
    {
      "cell_type": "code",
      "source": [
        "sports = [\"bat\", \"ball\", \"gloves\", \"socks\", \"jersey\"]\n",
        "list = ['hello' for x in sports]\n",
        "print(list)\n"
      ],
      "metadata": {
        "colab": {
          "base_uri": "https://localhost:8080/"
        },
        "id": "9KzEGiYbL4mc",
        "outputId": "95e10e55-ea7a-4c09-c1bb-100d22d581af"
      },
      "execution_count": null,
      "outputs": [
        {
          "output_type": "stream",
          "name": "stdout",
          "text": [
            "['hello', 'hello', 'hello', 'hello', 'hello']\n"
          ]
        }
      ]
    },
    {
      "cell_type": "code",
      "source": [
        "sports = [\"bat\", \"ball\", \"gloves\", \"socks\", \"jersey\"]\n",
        "list = [x if x != \"ball\" else \"orange\" for x in sports]\n",
        "print(list)\n"
      ],
      "metadata": {
        "colab": {
          "base_uri": "https://localhost:8080/"
        },
        "id": "WTn9q-_INbq2",
        "outputId": "380454ac-e7e6-4d4b-c517-e095caec0ff0"
      },
      "execution_count": null,
      "outputs": [
        {
          "output_type": "stream",
          "name": "stdout",
          "text": [
            "['bat', 'orange', 'gloves', 'socks', 'jersey']\n"
          ]
        }
      ]
    },
    {
      "cell_type": "code",
      "source": [
        "list = [\"orange\", \"mango\", \"kiwi\", \"pineapple\", \"banana\"]\n",
        "list.sort()\n",
        "print(list)\n"
      ],
      "metadata": {
        "colab": {
          "base_uri": "https://localhost:8080/"
        },
        "id": "tXrTuv8vNmWB",
        "outputId": "dab78198-afe6-41dc-ed66-fec03e0ccced"
      },
      "execution_count": null,
      "outputs": [
        {
          "output_type": "stream",
          "name": "stdout",
          "text": [
            "['banana', 'kiwi', 'mango', 'orange', 'pineapple']\n"
          ]
        }
      ]
    },
    {
      "cell_type": "code",
      "source": [
        "list = [100, 50, 65, 82, 23]\n",
        "list.sort()\n",
        "print(list)\n"
      ],
      "metadata": {
        "colab": {
          "base_uri": "https://localhost:8080/"
        },
        "id": "nZCwp1QhNvgR",
        "outputId": "81f3e31b-ee78-4884-d6a5-3981a06802ab"
      },
      "execution_count": null,
      "outputs": [
        {
          "output_type": "stream",
          "name": "stdout",
          "text": [
            "[23, 50, 65, 82, 100]\n"
          ]
        }
      ]
    },
    {
      "cell_type": "code",
      "source": [
        "list = [\"orange\", \"mango\", \"kiwi\", \"pineapple\", \"banana\"]\n",
        "list.sort(reverse = True)\n",
        "print(list)"
      ],
      "metadata": {
        "colab": {
          "base_uri": "https://localhost:8080/"
        },
        "id": "NRCJquiENxzd",
        "outputId": "0f80a502-8481-441b-ac2b-eba51a7ef04f"
      },
      "execution_count": null,
      "outputs": [
        {
          "output_type": "stream",
          "name": "stdout",
          "text": [
            "['pineapple', 'orange', 'mango', 'kiwi', 'banana']\n"
          ]
        }
      ]
    },
    {
      "cell_type": "code",
      "source": [
        "list = [100, 50, 65, 82, 23]\n",
        "list.sort(reverse = True)\n",
        "print(list)"
      ],
      "metadata": {
        "colab": {
          "base_uri": "https://localhost:8080/"
        },
        "id": "5hBam-86NzbD",
        "outputId": "5ebe8d9d-201c-451c-ae6b-f9b5682c7a57"
      },
      "execution_count": null,
      "outputs": [
        {
          "output_type": "stream",
          "name": "stdout",
          "text": [
            "[100, 82, 65, 50, 23]\n"
          ]
        }
      ]
    },
    {
      "cell_type": "code",
      "source": [
        "def myfunc(n):\n",
        "  return abs(n - 100)\n",
        "\n",
        "list = [100, 50, 165, 82, 23]\n",
        "list.sort(key = myfunc)\n",
        "print(list)"
      ],
      "metadata": {
        "colab": {
          "base_uri": "https://localhost:8080/"
        },
        "id": "aRUHpD9pN0Fz",
        "outputId": "57e16fef-4d0c-4cf7-c174-40fabd6727e3"
      },
      "execution_count": null,
      "outputs": [
        {
          "output_type": "stream",
          "name": "stdout",
          "text": [
            "[100, 82, 50, 165, 23]\n"
          ]
        }
      ]
    },
    {
      "cell_type": "code",
      "source": [
        "list = [\"banana\", \"Orange\", \"Kiwi\", \"cherry\"]\n",
        "list.sort()\n",
        "print(list)"
      ],
      "metadata": {
        "colab": {
          "base_uri": "https://localhost:8080/"
        },
        "id": "FKCu3QBuN4rp",
        "outputId": "58d1308e-3e34-4bdf-fe3d-dcf5663d5935"
      },
      "execution_count": null,
      "outputs": [
        {
          "output_type": "stream",
          "name": "stdout",
          "text": [
            "['Kiwi', 'Orange', 'banana', 'cherry']\n"
          ]
        }
      ]
    },
    {
      "cell_type": "code",
      "source": [
        "list = [\"banana\", \"Orange\", \"Kiwi\", \"cherry\"]\n",
        "list.sort(key = str.lower)\n",
        "print(list)"
      ],
      "metadata": {
        "colab": {
          "base_uri": "https://localhost:8080/"
        },
        "id": "eh9E2VjtN7GB",
        "outputId": "7a478069-43ef-4017-91cc-362f24000030"
      },
      "execution_count": null,
      "outputs": [
        {
          "output_type": "stream",
          "name": "stdout",
          "text": [
            "['banana', 'cherry', 'Kiwi', 'Orange']\n"
          ]
        }
      ]
    },
    {
      "cell_type": "code",
      "source": [
        "list = [\"banana\", \"Orange\", \"Kiwi\", \"cherry\"]\n",
        "list.reverse()\n",
        "print(list)"
      ],
      "metadata": {
        "colab": {
          "base_uri": "https://localhost:8080/"
        },
        "id": "n-3tkfKRN9A9",
        "outputId": "a084ce7e-fb1c-46c9-9157-ffc3e95f2bb2"
      },
      "execution_count": null,
      "outputs": [
        {
          "output_type": "stream",
          "name": "stdout",
          "text": [
            "['cherry', 'Kiwi', 'Orange', 'banana']\n"
          ]
        }
      ]
    },
    {
      "cell_type": "code",
      "source": [
        "list = [\"apple\", \"banana\", \"cherry\"]\n",
        "mylist = list.copy()\n",
        "print(list)"
      ],
      "metadata": {
        "colab": {
          "base_uri": "https://localhost:8080/"
        },
        "id": "5CIFgwA2OU4e",
        "outputId": "99e0b942-391c-46ea-e114-d85e5df9cd3b"
      },
      "execution_count": null,
      "outputs": [
        {
          "output_type": "stream",
          "name": "stdout",
          "text": [
            "['apple', 'banana', 'cherry']\n"
          ]
        }
      ]
    },
    {
      "cell_type": "code",
      "source": [
        "list1 = [\"a\", \"b\", \"c\"]\n",
        "list2 = [1, 2, 3]\n",
        "\n",
        "list3 = list1 + list2\n",
        "print(list3)\n"
      ],
      "metadata": {
        "colab": {
          "base_uri": "https://localhost:8080/"
        },
        "id": "2DinIgWyOvZu",
        "outputId": "dfc9250a-9a69-4bb1-a4a9-2073958ac85a"
      },
      "execution_count": null,
      "outputs": [
        {
          "output_type": "stream",
          "name": "stdout",
          "text": [
            "['a', 'b', 'c', 1, 2, 3]\n"
          ]
        }
      ]
    },
    {
      "cell_type": "code",
      "source": [
        "list1 = [\"a\", \"b\" , \"c\"]\n",
        "list2 = [1, 2, 3]\n",
        "\n",
        "for x in list2:\n",
        "  list1.append(x)\n",
        "\n",
        "print(list1)"
      ],
      "metadata": {
        "colab": {
          "base_uri": "https://localhost:8080/"
        },
        "id": "SKJBapRiO3vU",
        "outputId": "57dd308f-f332-4a1b-ea62-1bae6bc603b1"
      },
      "execution_count": null,
      "outputs": [
        {
          "output_type": "stream",
          "name": "stdout",
          "text": [
            "['a', 'b', 'c', 1, 2, 3]\n"
          ]
        }
      ]
    },
    {
      "cell_type": "code",
      "source": [
        "list1 = [\"a\", \"b\" , \"c\"]\n",
        "list2 = [1, 2, 3]\n",
        "\n",
        "list1.extend(list2)\n",
        "print(list1)"
      ],
      "metadata": {
        "colab": {
          "base_uri": "https://localhost:8080/"
        },
        "id": "z8E0NQNYPbfG",
        "outputId": "dcc247e2-30f5-47c1-c870-f856373ea0c2"
      },
      "execution_count": null,
      "outputs": [
        {
          "output_type": "stream",
          "name": "stdout",
          "text": [
            "['a', 'b', 'c', 1, 2, 3]\n"
          ]
        }
      ]
    },
    {
      "cell_type": "code",
      "source": [
        ""
      ],
      "metadata": {
        "id": "q6OqnGkMPfBG"
      },
      "execution_count": null,
      "outputs": []
    }
  ]
}