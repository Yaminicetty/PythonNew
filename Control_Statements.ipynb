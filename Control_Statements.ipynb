{
  "nbformat": 4,
  "nbformat_minor": 0,
  "metadata": {
    "colab": {
      "name": "Control Statements",
      "provenance": [],
      "collapsed_sections": [],
      "authorship_tag": "ABX9TyNZSvdu/69bEaml1f1pZuCv",
      "include_colab_link": true
    },
    "kernelspec": {
      "name": "python3",
      "display_name": "Python 3"
    },
    "language_info": {
      "name": "python"
    }
  },
  "cells": [
    {
      "cell_type": "markdown",
      "metadata": {
        "id": "view-in-github",
        "colab_type": "text"
      },
      "source": [
        "<a href=\"https://colab.research.google.com/github/Yaminicetty/PythonNew/blob/module-1/Control_Statements.ipynb\" target=\"_parent\"><img src=\"https://colab.research.google.com/assets/colab-badge.svg\" alt=\"Open In Colab\"/></a>"
      ]
    },
    {
      "cell_type": "code",
      "execution_count": null,
      "metadata": {
        "colab": {
          "base_uri": "https://localhost:8080/"
        },
        "id": "owcgSQxdq9LK",
        "outputId": "2f04d146-2021-4bf1-eed6-efd419d6e2f1"
      },
      "outputs": [
        {
          "output_type": "stream",
          "name": "stdout",
          "text": [
            "Eligible for voting\n"
          ]
        }
      ],
      "source": [
        "a=20\n",
        "if a>=18:\n",
        " print(\"Eligible for voting\")\n",
        "else:\n",
        " print(\"Not eligible for voting\")\n"
      ]
    },
    {
      "cell_type": "code",
      "source": [
        "a=int(input(\"enter your age\"))\n",
        "if a>=18:\n",
        "  print(\"you are eligible for voting\")\n",
        "else:\n",
        "  print(\"you are not eligible\")"
      ],
      "metadata": {
        "colab": {
          "base_uri": "https://localhost:8080/"
        },
        "id": "jW6hf3vpsEuS",
        "outputId": "54630dba-f611-4644-e8bd-fc8bddcf3edf"
      },
      "execution_count": null,
      "outputs": [
        {
          "output_type": "stream",
          "name": "stdout",
          "text": [
            "enter your age5\n",
            "you are not eligible\n"
          ]
        }
      ]
    },
    {
      "cell_type": "code",
      "source": [
        "a=int(input(\"enter your number\"))\n",
        "b=int(input(\"enter your number\"))\n",
        "c=int(input(\"enter your number\"))\n",
        "if a>b and a>c:\n",
        "  print(\"a is greater\")\n",
        "elif b>a and b>c:\n",
        "  print(\"b is greater\")\n",
        "else: \n",
        "   print(\"c is greater\")\n",
        "\n",
        "\n",
        "\n"
      ],
      "metadata": {
        "colab": {
          "base_uri": "https://localhost:8080/"
        },
        "id": "viEmQph1s6uD",
        "outputId": "e33561c5-8e59-48bb-9761-97752fd821b1"
      },
      "execution_count": null,
      "outputs": [
        {
          "output_type": "stream",
          "name": "stdout",
          "text": [
            "enter your number45\n",
            "enter your number10\n",
            "enter your number24\n",
            "a is greater\n"
          ]
        }
      ]
    },
    {
      "cell_type": "code",
      "source": [
        "a=int(input(\"enter your number\"))\n",
        "b=int(input(\"enter your number\"))\n",
        "c=int(input(\"enter your number\"))\n",
        "d=int(input(\"enter your number\"))\n",
        "e=int(input(\"enter your number\"))\n",
        "if a>b and a>c and a>d and a>e:\n",
        "  print(\"a is greater\")\n",
        "elif b>a and b>c and b>d and b>e:\n",
        "  print(\"b is greater\")\n",
        "elif c>a and c>b and c>d and c>e:\n",
        "   print(\"c is greater\")\n",
        "elif d>a and d>b and d>c and d>e:\n",
        "  print(\"d is greater\")\n",
        "else: \n",
        "   print(\"e is greater\")\n"
      ],
      "metadata": {
        "colab": {
          "base_uri": "https://localhost:8080/"
        },
        "id": "xVTr-Jh_vRuC",
        "outputId": "f35c4985-360d-4330-d9eb-1d6d89dde899"
      },
      "execution_count": null,
      "outputs": [
        {
          "output_type": "stream",
          "name": "stdout",
          "text": [
            "enter your number1\n",
            "enter your number2\n",
            "enter your number3\n",
            "enter your number4\n",
            "enter your number5\n",
            "e is greater\n"
          ]
        }
      ]
    },
    {
      "cell_type": "code",
      "source": [
        "a=int(input(\"enter your number\"))\n",
        "b=int(input(\"enter your number\"))\n",
        "c=int(input(\"enter your number\"))\n",
        "d=(a+b+c)/3\n",
        "print(d)"
      ],
      "metadata": {
        "colab": {
          "base_uri": "https://localhost:8080/"
        },
        "id": "0_kYAs6dwpdt",
        "outputId": "1f97ea2e-fb40-4896-ca1d-b06fbe5f1357"
      },
      "execution_count": null,
      "outputs": [
        {
          "output_type": "stream",
          "name": "stdout",
          "text": [
            "enter your number10\n",
            "enter your number10\n",
            "enter your number10\n",
            "10.0\n"
          ]
        }
      ]
    },
    {
      "cell_type": "code",
      "source": [
        "i=1\n"
      ],
      "metadata": {
        "id": "vMswwE8UyF4i"
      },
      "execution_count": null,
      "outputs": []
    }
  ]
}