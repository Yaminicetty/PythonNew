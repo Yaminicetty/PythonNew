{
  "nbformat": 4,
  "nbformat_minor": 0,
  "metadata": {
    "colab": {
      "name": "DICTONARY.ipynb",
      "provenance": [],
      "collapsed_sections": [],
      "authorship_tag": "ABX9TyN4USbZBAR3V+JoF0CvFLiY",
      "include_colab_link": true
    },
    "kernelspec": {
      "name": "python3",
      "display_name": "Python 3"
    },
    "language_info": {
      "name": "python"
    }
  },
  "cells": [
    {
      "cell_type": "markdown",
      "metadata": {
        "id": "view-in-github",
        "colab_type": "text"
      },
      "source": [
        "<a href=\"https://colab.research.google.com/github/Yaminicetty/PythonNew/blob/Module-2/DICTONARY.ipynb\" target=\"_parent\"><img src=\"https://colab.research.google.com/assets/colab-badge.svg\" alt=\"Open In Colab\"/></a>"
      ]
    },
    {
      "cell_type": "code",
      "execution_count": null,
      "metadata": {
        "id": "tcXvLxaqJprW",
        "colab": {
          "base_uri": "https://localhost:8080/"
        },
        "outputId": "fa4737cf-001c-4d5f-d536-a0e6b0cb9955"
      },
      "outputs": [
        {
          "output_type": "stream",
          "name": "stdout",
          "text": [
            "{'brand': 'Raymond', 'Founder': 'AJ Raymond', 'year': 1925}\n"
          ]
        }
      ],
      "source": [
        "dictonary = {                   #print a dictonary\n",
        "  \"brand\": \"Raymond\",\n",
        "  \"Founder\": \"AJ Raymond\",\n",
        "  \"year\": 1925\n",
        "  }\n",
        "print(dictonary)\n",
        "\n"
      ]
    },
    {
      "cell_type": "code",
      "source": [
        "thisdict = {                 #band value\n",
        "  \"brand\": \"Raymond\",\n",
        "  \"Founder\": \"AJ Raymond\",\n",
        "  \"year\": 1925\n",
        "}\n",
        "print(thisdict[\"brand\"])"
      ],
      "metadata": {
        "id": "eb60Bx8ZYqM-",
        "colab": {
          "base_uri": "https://localhost:8080/"
        },
        "outputId": "21ee9813-6194-4589-e1ec-b021d070fdf8"
      },
      "execution_count": null,
      "outputs": [
        {
          "output_type": "stream",
          "name": "stdout",
          "text": [
            "Raymond\n"
          ]
        }
      ]
    },
    {
      "cell_type": "code",
      "source": [
        "thisdict = {\n",
        "  \"brand\": \"Raymond\",\n",
        "  \"Founder\": \"AJ Raymond\",\n",
        "  \"year\": 1925,\n",
        "  \"year\": 2020\n",
        "}\n",
        "print(thisdict)"
      ],
      "metadata": {
        "id": "SNuZ1HrDb4BM",
        "colab": {
          "base_uri": "https://localhost:8080/"
        },
        "outputId": "ff29ecfc-7a87-49d6-8fe6-8fcbdc194cc1"
      },
      "execution_count": null,
      "outputs": [
        {
          "output_type": "stream",
          "name": "stdout",
          "text": [
            "{'brand': 'Raymond', 'Founder': 'AJ Raymond', 'year': 2020}\n"
          ]
        }
      ]
    },
    {
      "cell_type": "code",
      "source": [
        "print(len(thisdict))         # print items"
      ],
      "metadata": {
        "colab": {
          "base_uri": "https://localhost:8080/"
        },
        "id": "xwdZvXxP3gVt",
        "outputId": "d30f4759-4dd1-475f-9806-3931cfdf1ecc"
      },
      "execution_count": null,
      "outputs": [
        {
          "output_type": "stream",
          "name": "stdout",
          "text": [
            "3\n"
          ]
        }
      ]
    },
    {
      "cell_type": "code",
      "source": [
        "dictonary = {            # string,boolean,lists\n",
        "  \"brand\": \"Raymond\",\n",
        "  \"Founder\": \"AJ Raymond\",\n",
        "  \"year\": 1925,\n",
        "  \"colors\": [\"red\", \"white\", \"blue\"]\n",
        "}\n",
        "print(dictonary)"
      ],
      "metadata": {
        "colab": {
          "base_uri": "https://localhost:8080/"
        },
        "id": "2KsH2cSt3hoH",
        "outputId": "1124882d-32b2-49b0-bb85-88836d627c97"
      },
      "execution_count": null,
      "outputs": [
        {
          "output_type": "stream",
          "name": "stdout",
          "text": [
            "{'brand': 'Raymond', 'Founder': 'AJ Raymond', 'year': 1925, 'colors': ['red', 'white', 'blue']}\n"
          ]
        }
      ]
    },
    {
      "cell_type": "code",
      "source": [
        "dictonary = {             #print the data\n",
        "   \"brand\": \"Raymond\",\n",
        "  \"Founder\": \"AJ Raymond\",\n",
        "  \"year\": 1925,\n",
        "}\n",
        "print(type(dictonary))"
      ],
      "metadata": {
        "colab": {
          "base_uri": "https://localhost:8080/"
        },
        "id": "np7a8mOt3tFV",
        "outputId": "e8b898d0-f13c-49bf-89ee-bb5477b6e2b2"
      },
      "execution_count": null,
      "outputs": [
        {
          "output_type": "stream",
          "name": "stdout",
          "text": [
            "<class 'dict'>\n"
          ]
        }
      ]
    },
    {
      "cell_type": "code",
      "source": [
        "dictonary = {\n",
        "  \"brand\": \"Raymond\",\n",
        "  \"Founder\": \"AJ Raymond\",\n",
        "  \"year\": 1925,\n",
        "}\n",
        "if \"brand\" in dictonary:\n",
        "  print(\"Yes, 'brand' is one of the keys in the dictonary dictionary\")\n"
      ],
      "metadata": {
        "colab": {
          "base_uri": "https://localhost:8080/"
        },
        "id": "qHm_Ya1H318Z",
        "outputId": "a1eca766-4f26-4174-af8c-807c30996afc"
      },
      "execution_count": null,
      "outputs": [
        {
          "output_type": "stream",
          "name": "stdout",
          "text": [
            "Yes, 'brand' is one of the keys in the thisdict dictionary\n"
          ]
        }
      ]
    },
    {
      "cell_type": "code",
      "source": [
        "shirt = {\n",
        "\"brand\": \"Raymond\",\n",
        "  \"Founder\": \"AJ Raymond\",\n",
        "  \"year\": 1925,\n",
        "}\n",
        "\n",
        "x = shirt.keys()\n",
        "\n",
        "print(x) #before the change\n",
        "\n",
        "shirt[\"color\"] = \"white\"\n",
        "\n",
        "print(x) #after the change"
      ],
      "metadata": {
        "colab": {
          "base_uri": "https://localhost:8080/"
        },
        "id": "6F-jnjwB34UA",
        "outputId": "6ee892f1-449f-4d38-d0ce-b4c575bea7d1"
      },
      "execution_count": null,
      "outputs": [
        {
          "output_type": "stream",
          "name": "stdout",
          "text": [
            "dict_keys(['brand', 'Founder', 'year'])\n",
            "dict_keys(['brand', 'Founder', 'year', 'color'])\n"
          ]
        }
      ]
    },
    {
      "cell_type": "code",
      "source": [
        "shirt = {               #Make a change in the original dictionary and see that the values list gets updated as well\n",
        "\"brand\": \"Raymond\",\n",
        "  \"Founder\": \"AJ Raymond\",\n",
        "  \"year\": 1925,\n",
        "}\n",
        "\n",
        "x = shirt.values()\n",
        "\n",
        "print(x) #before the change\n",
        "\n",
        "shirt[\"year\"] = 2020\n",
        "\n",
        "print(x) #after the change"
      ],
      "metadata": {
        "colab": {
          "base_uri": "https://localhost:8080/"
        },
        "id": "2KTjI-6A4B3_",
        "outputId": "ba24fead-35bf-4d1e-f808-900a553c6b1f"
      },
      "execution_count": null,
      "outputs": [
        {
          "output_type": "stream",
          "name": "stdout",
          "text": [
            "dict_values(['Raymond', 'AJ Raymond', 1925])\n",
            "dict_values(['Raymond', 'AJ Raymond', 2020])\n"
          ]
        }
      ]
    },
    {
      "cell_type": "code",
      "source": [
        "shirt= {\n",
        "\"brand\": \"Raymond\",\n",
        " \"Founder\": \"AJ Raymond\",\n",
        " \"year\": 1925}   #Add a new item to the original dictionary and see that the values list gets updated as well\n",
        "\n",
        "x = shirt.values()\n",
        "print(x) #before the change\n",
        "shirt[\"color\"] = \"red\"\n",
        "print(x) #after the change"
      ],
      "metadata": {
        "colab": {
          "base_uri": "https://localhost:8080/"
        },
        "id": "HWwozqhw4HEp",
        "outputId": "53378b71-4078-4213-ead9-1fec5118e076"
      },
      "execution_count": null,
      "outputs": [
        {
          "output_type": "stream",
          "name": "stdout",
          "text": [
            "dict_values(['Raymond', 'AJ Raymond', 1925])\n",
            "dict_values(['Raymond', 'AJ Raymond', 1925, 'red'])\n"
          ]
        }
      ]
    },
    {
      "cell_type": "code",
      "source": [
        "dictonary =\t{\n",
        "  \"brand\": \"Raymond\",\n",
        "  \"Founder\": \"AJ Raymond\",\n",
        "  \"year\": 1925,\n",
        "}\n",
        "dictonary[\"year\"] = 2018\n",
        "print(dictonary)\n"
      ],
      "metadata": {
        "colab": {
          "base_uri": "https://localhost:8080/"
        },
        "id": "MDNii1Eu4KN8",
        "outputId": "83f9d98e-3818-4ae4-9e6f-29fbb78aecca"
      },
      "execution_count": null,
      "outputs": [
        {
          "output_type": "stream",
          "name": "stdout",
          "text": [
            "{'brand': 'Raymond', 'Founder': 'AJ Raymond', 'year': 1925}\n"
          ]
        }
      ]
    },
    {
      "cell_type": "code",
      "source": [
        "dictonary = {\n",
        "    \"brand\": \"Raymond\",\n",
        "  \"Founder\": \"AJ Raymond\",\n",
        "  \"year\": 1925,\n",
        "}\n",
        "if \"Founder\" in dictonary:\n",
        "  print(\"Yes, 'model' is one of the keys in the dictonary \")\n",
        "\n"
      ],
      "metadata": {
        "colab": {
          "base_uri": "https://localhost:8080/"
        },
        "id": "DL1feNVz4th1",
        "outputId": "9bd1e3e6-40b5-47fd-974f-2fdcd83159b9"
      },
      "execution_count": null,
      "outputs": [
        {
          "output_type": "stream",
          "name": "stdout",
          "text": [
            "Yes, 'model' is one of the keys in the dictonary \n"
          ]
        }
      ]
    },
    {
      "cell_type": "code",
      "source": [
        "dicty = {\n",
        "  \"brand\": \"Raymond\",\n",
        "  \"Founder\": \"AJ Raymond\",\n",
        "  \"year\": 1925,\n",
        "}\n",
        "dicty[\"color\"] = \"red\"\n",
        "print(dicty)"
      ],
      "metadata": {
        "colab": {
          "base_uri": "https://localhost:8080/"
        },
        "id": "RNF6jMRr5W0n",
        "outputId": "cb3d47ad-31bf-4674-e312-ceed68069429"
      },
      "execution_count": null,
      "outputs": [
        {
          "output_type": "stream",
          "name": "stdout",
          "text": [
            "{'brand': 'Raymond', 'Founder': 'AJ Raymond', 'year': 1925, 'color': 'red'}\n"
          ]
        }
      ]
    },
    {
      "cell_type": "code",
      "source": [
        "dictonary = {              #Add a color item to the dictionary by using the update() method:\n",
        "  \"brand\": \"Raymond\",\n",
        "  \"Founder\": \"AJ Raymond\",\n",
        "  \"year\": 1925,\n",
        "}\n",
        "dictonary.update({\"color\": \"red\"})\n",
        "print(dictonary)\n"
      ],
      "metadata": {
        "colab": {
          "base_uri": "https://localhost:8080/"
        },
        "id": "9XS0zfrd5tXC",
        "outputId": "d1d5a9af-0a3c-4e31-84be-09ef6ce352b8"
      },
      "execution_count": null,
      "outputs": [
        {
          "output_type": "stream",
          "name": "stdout",
          "text": [
            "{'brand': 'Raymond', 'Founder': 'AJ Raymond', 'year': 1925, 'color': 'red'}\n"
          ]
        }
      ]
    },
    {
      "cell_type": "code",
      "source": [
        "dictonary = {          #The pop() method removes the item with the specified key name:\n",
        " \"brand\": \"Raymond\",\n",
        "  \"Founder\": \"AJ Raymond\",\n",
        "  \"year\": 1925,}\n",
        "dictonary.pop(\"brand\")\n",
        "print(dictonary)"
      ],
      "metadata": {
        "colab": {
          "base_uri": "https://localhost:8080/"
        },
        "id": "kt5T0GbBAAcG",
        "outputId": "f12a8b3f-2654-4884-9be1-6dbf04524cbd"
      },
      "execution_count": null,
      "outputs": [
        {
          "output_type": "stream",
          "name": "stdout",
          "text": [
            "{'Founder': 'AJ Raymond', 'year': 1925}\n"
          ]
        }
      ]
    },
    {
      "cell_type": "code",
      "source": [
        "dictonary = {                  #The popitem() method removes the last inserted item in versions before 3.7, a random item is removed instead\n",
        "  \"brand\": \"Raymond\",\n",
        "  \"Founder\": \"AJ Raymond\",\n",
        "  \"year\": 1925,\n",
        "}\n",
        "dictonary.popitem()\n",
        "print(dictonary)"
      ],
      "metadata": {
        "colab": {
          "base_uri": "https://localhost:8080/"
        },
        "id": "UMeYWyJoAVxD",
        "outputId": "62615cd3-0ade-415d-b5ae-e6bf818c74a7"
      },
      "execution_count": null,
      "outputs": [
        {
          "output_type": "stream",
          "name": "stdout",
          "text": [
            "{'brand': 'Raymond', 'Founder': 'AJ Raymond'}\n"
          ]
        }
      ]
    },
    {
      "cell_type": "code",
      "source": [
        "dictonary = {            #The del keyword can also delete the dictionary completely\n",
        " \"brand\": \"Raymond\",\n",
        "  \"Founder\": \"AJ Raymond\",\n",
        "  \"year\": 1925,\n",
        "}\n",
        "del dictonary[\"brand\"]\n",
        "print(dictonary)"
      ],
      "metadata": {
        "colab": {
          "base_uri": "https://localhost:8080/"
        },
        "id": "elbha8hpAjcj",
        "outputId": "757cef35-3b67-42a7-f28c-4ffeaba23f91"
      },
      "execution_count": null,
      "outputs": [
        {
          "output_type": "stream",
          "name": "stdout",
          "text": [
            "{'Founder': 'AJ Raymond', 'year': 1925}\n"
          ]
        }
      ]
    },
    {
      "cell_type": "code",
      "source": [
        "dictonary = {              #The clear() method empties the dictionary:\n",
        "  \"brand\": \"Raymond\",\n",
        "  \"Founder\": \"AJ Raymond\",\n",
        "  \"year\": 1925,\n",
        "}\n",
        "dictonary.clear()\n",
        "print(dictonary)"
      ],
      "metadata": {
        "colab": {
          "base_uri": "https://localhost:8080/"
        },
        "id": "FCrQzMP2Avsn",
        "outputId": "bfc933a8-689e-4f86-c76e-5076a600cd38"
      },
      "execution_count": null,
      "outputs": [
        {
          "output_type": "stream",
          "name": "stdout",
          "text": [
            "{}\n"
          ]
        }
      ]
    },
    {
      "cell_type": "code",
      "source": [
        "dictonary =\t{               #Print all key names in the dictionary, one by one\n",
        "  \"brand\": \"Raymond\",\n",
        "  \"Founder\": \"AJ Raymond\",\n",
        "  \"year\": 1925,\n",
        "}\n",
        "for x in dictonary:\n",
        "  print(x)\n"
      ],
      "metadata": {
        "colab": {
          "base_uri": "https://localhost:8080/"
        },
        "id": "dUCaQCmfA5au",
        "outputId": "ca1cc4b5-beb5-482c-b9cb-6eb9cb005b8b"
      },
      "execution_count": null,
      "outputs": [
        {
          "output_type": "stream",
          "name": "stdout",
          "text": [
            "brand\n",
            "Founder\n",
            "year\n"
          ]
        }
      ]
    },
    {
      "cell_type": "code",
      "source": [
        "dictonary =\t{              #Print all values in the dictionary, one by one\n",
        "  \"brand\": \"Ford\",\n",
        "  \"model\": \"Mustang\",\n",
        "  \"year\": 1964\n",
        "}\n",
        "for x in dictonary:\n",
        "  print(dictonary[x])\n"
      ],
      "metadata": {
        "colab": {
          "base_uri": "https://localhost:8080/"
        },
        "id": "1MpSm8zUBl99",
        "outputId": "8ab793ee-8acc-4551-991f-9ee421781ddb"
      },
      "execution_count": null,
      "outputs": [
        {
          "output_type": "stream",
          "name": "stdout",
          "text": [
            "Ford\n",
            "Mustang\n",
            "1964\n"
          ]
        }
      ]
    },
    {
      "cell_type": "code",
      "source": [
        "dictonary =\t{       #You can also use the values() method to return values of a dictionary\n",
        "  \"brand\": \"Ford\",\n",
        "  \"model\": \"Mustang\",\n",
        "  \"year\": 1964\n",
        "}\n",
        "for x in dictonary.values():\n",
        "  print(x)\n"
      ],
      "metadata": {
        "colab": {
          "base_uri": "https://localhost:8080/"
        },
        "id": "y_ggdg5sBukI",
        "outputId": "fbcc380d-dd66-46c6-e18d-fc49e714c09b"
      },
      "execution_count": null,
      "outputs": [
        {
          "output_type": "stream",
          "name": "stdout",
          "text": [
            "Ford\n",
            "Mustang\n",
            "1964\n"
          ]
        }
      ]
    },
    {
      "cell_type": "code",
      "source": [
        "dictonary =\t{     #The keys() method to return the keys of a dictionary\n",
        "  \"brand\": \"Raymond\",\n",
        "  \"Founder\": \"AJ Raymond\",\n",
        "  \"year\": 1925,\n",
        "}\n",
        "for x in dictonary.keys():\n",
        "  print(x)\n"
      ],
      "metadata": {
        "colab": {
          "base_uri": "https://localhost:8080/"
        },
        "id": "LzDwlwYsCHjP",
        "outputId": "650671ad-a83a-4f29-8df0-b9b76216671b"
      },
      "execution_count": null,
      "outputs": [
        {
          "output_type": "stream",
          "name": "stdout",
          "text": [
            "brand\n",
            "Founder\n",
            "year\n"
          ]
        }
      ]
    },
    {
      "cell_type": "code",
      "source": [
        "\n"
      ],
      "metadata": {
        "colab": {
          "base_uri": "https://localhost:8080/"
        },
        "id": "Tx1PV27tCMrq",
        "outputId": "96413b95-f693-45d1-c4c9-a728ef5afc8d"
      },
      "execution_count": null,
      "outputs": [
        {
          "output_type": "stream",
          "name": "stdout",
          "text": [
            "brand\n",
            "model\n",
            "year\n"
          ]
        }
      ]
    },
    {
      "cell_type": "code",
      "source": [
        "for x, y in dictonary.items():   #Loop through both keys and values by using the items() method\n",
        "  print(x, y)"
      ],
      "metadata": {
        "colab": {
          "base_uri": "https://localhost:8080/"
        },
        "id": "mHOJzphpCW91",
        "outputId": "a6163a57-d90f-4601-a1b4-ddf8c5ca0090"
      },
      "execution_count": null,
      "outputs": [
        {
          "output_type": "stream",
          "name": "stdout",
          "text": [
            "brand Raymond\n",
            "Founder AJ Raymond\n",
            "year 1925\n"
          ]
        }
      ]
    },
    {
      "cell_type": "code",
      "source": [
        "dictonary = {  # Make a copy of a dictionary with the copy() method:\n",
        "  \"brand\": \"Raymond\",\n",
        "  \"Founder\": \"AJ Raymond\",\n",
        "  \"year\": 1925,\n",
        "}\n",
        "dictonary = dictonary.copy()\n",
        "print(dictonary)"
      ],
      "metadata": {
        "colab": {
          "base_uri": "https://localhost:8080/"
        },
        "id": "AEEQU8b3Co1o",
        "outputId": "d7c66635-efe0-4602-ad95-a4897c1503c0"
      },
      "execution_count": null,
      "outputs": [
        {
          "output_type": "stream",
          "name": "stdout",
          "text": [
            "{'brand': 'Raymond', 'Founder': 'AJ Raymond', 'year': 1925}\n"
          ]
        }
      ]
    },
    {
      "cell_type": "code",
      "source": [
        "dictonary = {           # a copy of a dictionary with the dict() function\n",
        "   \"brand\": \"Raymond\",\n",
        "  \"Founder\": \"AJ Raymond\",\n",
        "  \"year\": 1925,\n",
        "}\n",
        "dictonary = dict(dictonary)\n",
        "print(dictonary)"
      ],
      "metadata": {
        "colab": {
          "base_uri": "https://localhost:8080/"
        },
        "id": "blRHFzPTC0VC",
        "outputId": "fe1c58f3-d219-47c5-fa59-d2428fd9fbef"
      },
      "execution_count": null,
      "outputs": [
        {
          "output_type": "stream",
          "name": "stdout",
          "text": [
            "{'brand': 'Raymond', 'Founder': 'AJ Raymond', 'year': 1925}\n"
          ]
        }
      ]
    },
    {
      "cell_type": "code",
      "source": [
        "dictonary = {                                        #Make a copy of a dictionary with the copy() method:\n",
        "  \"brand\": \"Raymond\",\n",
        "  \"Founder\": \"AJ Raymond\",\n",
        "  \"year\": 1925,\n",
        "}\n",
        "dict50 = dictonary.copy()\n",
        "print(dict50)"
      ],
      "metadata": {
        "colab": {
          "base_uri": "https://localhost:8080/"
        },
        "id": "kv0-CcjTGoOV",
        "outputId": "19f59715-0400-4135-d927-8eea11301295"
      },
      "execution_count": null,
      "outputs": [
        {
          "output_type": "stream",
          "name": "stdout",
          "text": [
            "{'brand': 'Raymond', 'Founder': 'AJ Raymond', 'year': 1925}\n"
          ]
        }
      ]
    },
    {
      "cell_type": "code",
      "source": [
        "thisdict = {                                          #Make a copy of a dictionary with the dict() function:\n",
        "  \"brand\": \"Ford\",\n",
        "  \"model\": \"Mustang\",\n",
        "  \"year\": 1964\n",
        "}\n",
        "mydict = dict(thisdict)\n",
        "print(mydict)"
      ],
      "metadata": {
        "colab": {
          "base_uri": "https://localhost:8080/"
        },
        "id": "DwDe38R6Gz3f",
        "outputId": "678069f6-e8c6-49d8-b67f-93415efb19a7"
      },
      "execution_count": null,
      "outputs": [
        {
          "output_type": "stream",
          "name": "stdout",
          "text": [
            "{'brand': 'Ford', 'model': 'Mustang', 'year': 1964}\n"
          ]
        }
      ]
    },
    {
      "cell_type": "code",
      "source": [
        "familytree = {\n",
        "  \"child1\" : {\n",
        "    \"name\" : \"Anusha\",\n",
        "    \"year\" : 1999\n",
        "  },\n",
        "  \"child2\" : {\n",
        "    \"name\" : \"Neha\",\n",
        "    \"year\" : 2005\n",
        "  },\n",
        "  \"child3\" : {\n",
        "    \"name\" : \"Linda\",\n",
        "    \"year\" : 2015\n",
        "  }\n",
        "}\n",
        "print(familytree)\n"
      ],
      "metadata": {
        "colab": {
          "base_uri": "https://localhost:8080/"
        },
        "id": "fjLSVaYdHAka",
        "outputId": "d80e9759-ea41-4f25-d6d1-7b0ef2abbebc"
      },
      "execution_count": null,
      "outputs": [
        {
          "output_type": "stream",
          "name": "stdout",
          "text": [
            "{'child1': {'name': 'Anusha', 'year': 1999}, 'child2': {'name': 'Neha', 'year': 2005}, 'child3': {'name': 'Linda', 'year': 2015}}\n"
          ]
        }
      ]
    },
    {
      "cell_type": "code",
      "source": [
        "child1 = {\n",
        "  \"name\" : \"reshma\",\n",
        "  \"year\" : 2000\n",
        "}\n",
        "child2 = {\n",
        "  \"name\" : \"Gunjan\",\n",
        "  \"year\" : 2007\n",
        "}\n",
        "child3 = {\n",
        "  \"name\" : \"Maya\",\n",
        "  \"year\" : 2021\n",
        "}\n",
        "\n",
        "familytree= {\n",
        "  \"child1\" : child1,\n",
        "  \"child2\" : child2,\n",
        "  \"child3\" : child3\n",
        "}\n",
        "print(familytree)"
      ],
      "metadata": {
        "colab": {
          "base_uri": "https://localhost:8080/"
        },
        "id": "ryzgVGzwHr2w",
        "outputId": "12d21a5e-5b1c-400a-c90c-46dc0d8a4030"
      },
      "execution_count": null,
      "outputs": [
        {
          "output_type": "stream",
          "name": "stdout",
          "text": [
            "{'child1': {'name': 'reshma', 'year': 2000}, 'child2': {'name': 'Gunjan', 'year': 2007}, 'child3': {'name': 'Maya', 'year': 2021}}\n"
          ]
        }
      ]
    },
    {
      "cell_type": "code",
      "source": [
        ""
      ],
      "metadata": {
        "id": "yAVkjST3IIQe"
      },
      "execution_count": null,
      "outputs": []
    },
    {
      "cell_type": "code",
      "source": [
        ""
      ],
      "metadata": {
        "id": "NfrapR7LIopx"
      },
      "execution_count": null,
      "outputs": []
    }
  ]
}