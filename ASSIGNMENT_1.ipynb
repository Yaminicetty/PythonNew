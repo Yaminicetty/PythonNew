{
  "nbformat": 4,
  "nbformat_minor": 0,
  "metadata": {
    "colab": {
      "name": "ASSIGNMENT 1.ipynb",
      "provenance": [],
      "collapsed_sections": [],
      "authorship_tag": "ABX9TyMYHHTV76uZOGRcDvHKBQy4",
      "include_colab_link": true
    },
    "kernelspec": {
      "name": "python3",
      "display_name": "Python 3"
    },
    "language_info": {
      "name": "python"
    }
  },
  "cells": [
    {
      "cell_type": "markdown",
      "metadata": {
        "id": "view-in-github",
        "colab_type": "text"
      },
      "source": [
        "<a href=\"https://colab.research.google.com/github/Yaminicetty/PythonNew/blob/module-1/ASSIGNMENT_1.ipynb\" target=\"_parent\"><img src=\"https://colab.research.google.com/assets/colab-badge.svg\" alt=\"Open In Colab\"/></a>"
      ]
    },
    {
      "cell_type": "code",
      "execution_count": null,
      "metadata": {
        "colab": {
          "base_uri": "https://localhost:8080/"
        },
        "id": "vU7X-FtHwVdz",
        "outputId": "810d8cdc-5a25-4e42-828c-99250673cf21"
      },
      "outputs": [
        {
          "output_type": "stream",
          "name": "stdout",
          "text": [
            "banana\n"
          ]
        }
      ],
      "source": [
        "YAMINI = [\"apple\", \"banana\", \"mango\"]    #SECOND ITEM OF THE LIST\n",
        "print(YAMINI[1])"
      ]
    },
    {
      "cell_type": "code",
      "source": [
        "YAMINI = [\"apple\", \"kiwi\", \"cherry\"]        #NEGATIVE INDEXING\n",
        "print(YAMINI[-1])"
      ],
      "metadata": {
        "colab": {
          "base_uri": "https://localhost:8080/"
        },
        "id": "aZNYmeGMAsY9",
        "outputId": "925e6fd7-2b23-4d1e-9698-71fa9ea72d1f"
      },
      "execution_count": null,
      "outputs": [
        {
          "output_type": "stream",
          "name": "stdout",
          "text": [
            "cherry\n"
          ]
        }
      ]
    },
    {
      "cell_type": "code",
      "source": [
        "YAMINI = [\"blueberries\", \"banana\",\"papaya\", \"pears\", \"plums\", \"melon\", \"guvava\"]   \n",
        "print(YAMINI[3:6])"
      ],
      "metadata": {
        "colab": {
          "base_uri": "https://localhost:8080/"
        },
        "id": "7vevvu8lA_eX",
        "outputId": "dd2a55b9-48f1-4a51-f5cf-5bfa7aa038a4"
      },
      "execution_count": null,
      "outputs": [
        {
          "output_type": "stream",
          "name": "stdout",
          "text": [
            "['pears', 'plums', 'melon']\n"
          ]
        }
      ]
    },
    {
      "cell_type": "code",
      "source": [
        "YAMINI = [\"mango\",\"banana\",\"papaya\", \"pears\", \"plums\", \"melon\", \"guvava\"] \n",
        "print(YAMINI[:5])"
      ],
      "metadata": {
        "colab": {
          "base_uri": "https://localhost:8080/"
        },
        "id": "RMSR214rB2MI",
        "outputId": "f9451cb4-4d9a-4606-8e0a-e82e64860c28"
      },
      "execution_count": null,
      "outputs": [
        {
          "output_type": "stream",
          "name": "stdout",
          "text": [
            "['mango', 'banana', 'papaya', 'pears', 'plums']\n"
          ]
        }
      ]
    },
    {
      "cell_type": "code",
      "source": [
        "YAMINI = [\"mango\",\"banana\",\"papaya\", \"pears\", \"plums\", \"melon\", \"guvava\"] \n",
        "print(YAMINI[4:])"
      ],
      "metadata": {
        "colab": {
          "base_uri": "https://localhost:8080/"
        },
        "id": "ACCQ7eCWB9WL",
        "outputId": "154bc2cf-c2c3-4bcf-b6d4-8e0896a5d084"
      },
      "execution_count": null,
      "outputs": [
        {
          "output_type": "stream",
          "name": "stdout",
          "text": [
            "['plums', 'melon', 'guvava']\n"
          ]
        }
      ]
    },
    {
      "cell_type": "code",
      "source": [
        "YAMINI = [\"mango\",\"banana\",\"papaya\", \"pears\", \"plums\", \"melon\", \"guvava\"] \n",
        "print(YAMINI[-4:-2])\n"
      ],
      "metadata": {
        "colab": {
          "base_uri": "https://localhost:8080/"
        },
        "id": "Yh4OUVL5Cbw8",
        "outputId": "bda23c00-18a6-45b0-aad6-1569219243a3"
      },
      "execution_count": null,
      "outputs": [
        {
          "output_type": "stream",
          "name": "stdout",
          "text": [
            "['pears', 'plums']\n"
          ]
        }
      ]
    },
    {
      "cell_type": "code",
      "source": [
        "YAMINI = [\"Plums\", \"banana\", \"cherry\"]\n",
        "if \"Plums\" in YAMINI:\n",
        "  print(\"Yes, 'Plums' is in the fruits list\")"
      ],
      "metadata": {
        "colab": {
          "base_uri": "https://localhost:8080/"
        },
        "id": "Aal-K1PnCy7s",
        "outputId": "5f4b5012-3e10-4afb-9cbf-ceb1551133d0"
      },
      "execution_count": null,
      "outputs": [
        {
          "output_type": "stream",
          "name": "stdout",
          "text": [
            "Yes, 'Plums' is in the fruits list\n"
          ]
        }
      ]
    },
    {
      "cell_type": "code",
      "source": [
        "YAMINI = [\"VANILLA\", \"CHOCOLATE\", \"STRAWBWERRY\"]\n",
        "YAMINI[1] = \"KESAR PISTA\"\n",
        "print(YAMINI)"
      ],
      "metadata": {
        "colab": {
          "base_uri": "https://localhost:8080/"
        },
        "id": "DVxOcH0wDb94",
        "outputId": "155e0308-32ab-4504-87e7-a6843998d506"
      },
      "execution_count": null,
      "outputs": [
        {
          "output_type": "stream",
          "name": "stdout",
          "text": [
            "['VANILLA', 'KESAR PISTA', 'STRAWBWERRY']\n"
          ]
        }
      ]
    },
    {
      "cell_type": "code",
      "source": [
        "YAMINI = [\"VANILLA\", \"CHOCOLATE\", \"STRAWBWERRY\",\"BLACKFOREST\",\"PINEAPPLE\"]\n",
        "YAMINI[2:4] = [\"KESAR PISTA\", \"WATERMELON\"]\n",
        "print(YAMINI)"
      ],
      "metadata": {
        "colab": {
          "base_uri": "https://localhost:8080/"
        },
        "id": "_CoiC1glEx43",
        "outputId": "f24a233a-e9cb-49d9-be9d-4d70822dcd95"
      },
      "execution_count": null,
      "outputs": [
        {
          "output_type": "stream",
          "name": "stdout",
          "text": [
            "['VANILLA', 'CHOCOLATE', 'KESAR PISTA', 'WATERMELON', 'PINEAPPLE']\n"
          ]
        }
      ]
    },
    {
      "cell_type": "code",
      "source": [
        "YAMINI = [\"CHOCOLATE\", \"MANGO\", \"VANILLA\"]\n",
        "YAMINI[1:3] = [\"STRAWBERRY\"]\n",
        "print(YAMINI)"
      ],
      "metadata": {
        "colab": {
          "base_uri": "https://localhost:8080/"
        },
        "id": "59zR4_CtFNiz",
        "outputId": "bb22df03-41d6-4ec9-e8cc-4c89755e871a"
      },
      "execution_count": null,
      "outputs": [
        {
          "output_type": "stream",
          "name": "stdout",
          "text": [
            "['CHOCOLATE', 'STRAWBERRY']\n"
          ]
        }
      ]
    },
    {
      "cell_type": "code",
      "source": [
        "YAMINI = [\"CHOCOLATE\", \"MANGO\", \"VANILLA\"]\n",
        "YAMINI.insert(2, \"STRAWBERRY\")\n",
        "print(YAMINI)"
      ],
      "metadata": {
        "colab": {
          "base_uri": "https://localhost:8080/"
        },
        "id": "HW_KKBcQF0Gs",
        "outputId": "416875fc-8409-4a95-86f2-d82bb5dbacff"
      },
      "execution_count": null,
      "outputs": [
        {
          "output_type": "stream",
          "name": "stdout",
          "text": [
            "['CHOCOLATE', 'MANGO', 'STRAWBERRY', 'VANILLA']\n"
          ]
        }
      ]
    },
    {
      "cell_type": "code",
      "source": [
        "YAMINI = [\"CHOCOLATE\", \"MANGO\", \"VANILLA\"] #ADD AN ITEM\n",
        "YAMINI.append(\"STRAWBERRY\")\n",
        "print(YAMINI)"
      ],
      "metadata": {
        "colab": {
          "base_uri": "https://localhost:8080/"
        },
        "id": "8x9714dSGv7x",
        "outputId": "59b41638-f301-448e-b622-ee6fbc09acf4"
      },
      "execution_count": null,
      "outputs": [
        {
          "output_type": "stream",
          "name": "stdout",
          "text": [
            "['CHOCOLATE', 'MANGO', 'VANILLA', 'STRAWBERRY']\n"
          ]
        }
      ]
    },
    {
      "cell_type": "code",
      "source": [
        "YAMINI = [\"CHOCOLATE\", \"MANGO\", \"VANILLA\"]\n",
        "YAMINI.insert(3,\"STRAWBERRY\")\n",
        "print(YAMINI)"
      ],
      "metadata": {
        "colab": {
          "base_uri": "https://localhost:8080/"
        },
        "id": "yi0xDNwSG8vY",
        "outputId": "5ed42c81-c6b3-44ba-f39d-281f4b7523e8"
      },
      "execution_count": null,
      "outputs": [
        {
          "output_type": "stream",
          "name": "stdout",
          "text": [
            "['CHOCOLATE', 'MANGO', 'VANILLA', 'STRAWBERRY']\n"
          ]
        }
      ]
    },
    {
      "cell_type": "code",
      "source": [
        "YAMINI= [\"CHOCOLATE\", \"MANGO\", \"VANILLA\"]\n",
        "CETTY= [\"PLUMS\", \"BANANA\", \"CHERRY\"]\n",
        "YAMINI.extend(CETTY)\n",
        "print(YAMINI)"
      ],
      "metadata": {
        "colab": {
          "base_uri": "https://localhost:8080/"
        },
        "id": "_SGCwOfwHRSX",
        "outputId": "09a0c658-970e-41f6-e3f3-f22e0837bd07"
      },
      "execution_count": null,
      "outputs": [
        {
          "output_type": "stream",
          "name": "stdout",
          "text": [
            "['CHOCOLATE', 'MANGO', 'VANILLA', 'PLUMS', 'BANANA', 'CHERRY']\n"
          ]
        }
      ]
    },
    {
      "cell_type": "code",
      "source": [
        "YAMINI = [\"CHOCOLATE\", \"MANGO\", \"VANILLA\"]\n",
        "YAMINI.remove(\"MANGO\")\n",
        "print(YAMINI)"
      ],
      "metadata": {
        "colab": {
          "base_uri": "https://localhost:8080/"
        },
        "id": "peRghQycHjaE",
        "outputId": "d7547b55-0d62-4966-9184-f3c10a241a52"
      },
      "execution_count": null,
      "outputs": [
        {
          "output_type": "stream",
          "name": "stdout",
          "text": [
            "['CHOCOLATE', 'VANILLA']\n"
          ]
        }
      ]
    },
    {
      "cell_type": "code",
      "source": [
        "YAMINI = [\"CHOCOLATE\", \"MANGO\", \"VANILLA\"]\n",
        "YAMINI.pop(1)\n",
        "print(YAMINI)"
      ],
      "metadata": {
        "colab": {
          "base_uri": "https://localhost:8080/"
        },
        "id": "wzaeEsaAKTql",
        "outputId": "c9b993a5-4c23-4de9-d2c4-d2662787ebf3"
      },
      "execution_count": null,
      "outputs": [
        {
          "output_type": "stream",
          "name": "stdout",
          "text": [
            "['apple', 'cherry']\n"
          ]
        }
      ]
    },
    {
      "cell_type": "code",
      "source": [
        "YAMINI =[\"CHOCOLATE\", \"MANGO\", \"VANILLA\"]\n",
        "YAMINI.pop()\n",
        "print(YAMINI)"
      ],
      "metadata": {
        "colab": {
          "base_uri": "https://localhost:8080/"
        },
        "id": "GNgJJBg9KrLO",
        "outputId": "1651527f-b64b-409f-d9c1-d9078f12ec7b"
      },
      "execution_count": null,
      "outputs": [
        {
          "output_type": "stream",
          "name": "stdout",
          "text": [
            "['CHOCOLATE', 'MANGO']\n"
          ]
        }
      ]
    },
    {
      "cell_type": "code",
      "source": [
        "YAMINI = [\"CHOCOLATE\", \"MANGO\", \"VANILLA\"]\n",
        "for i in range(len(YAMINI)):\n",
        "  print(YAMINI[i])"
      ],
      "metadata": {
        "colab": {
          "base_uri": "https://localhost:8080/"
        },
        "id": "pw46Rv32K0uO",
        "outputId": "03a14af3-f91e-44fd-f350-073997930815"
      },
      "execution_count": null,
      "outputs": [
        {
          "output_type": "stream",
          "name": "stdout",
          "text": [
            "CHOCOLATE\n",
            "MANGO\n",
            "VANILLA\n"
          ]
        }
      ]
    },
    {
      "cell_type": "code",
      "source": [
        "YAMINI = [\"PLUMS\", \"BANANA\", \"CHERRY\"]\n",
        "for x in YAMINI:\n",
        "  print(x)"
      ],
      "metadata": {
        "colab": {
          "base_uri": "https://localhost:8080/"
        },
        "id": "lGv6AJVaLRKX",
        "outputId": "47a1b4cd-1ea4-43e2-a7a8-cacf63acf123"
      },
      "execution_count": null,
      "outputs": [
        {
          "output_type": "stream",
          "name": "stdout",
          "text": [
            "PLUMS\n",
            "BANANA\n",
            "CHERRY\n"
          ]
        }
      ]
    },
    {
      "cell_type": "code",
      "source": [
        "YAMINI = [\"apple\", \"banana\", \"cherry\"]\n",
        "i = 0\n",
        "while i < len(YAMINI):\n",
        "  print(YAMINI[i])\n",
        "  i = i + 1"
      ],
      "metadata": {
        "colab": {
          "base_uri": "https://localhost:8080/"
        },
        "id": "3-BL7vitLj4n",
        "outputId": "0fda2a99-80cf-49fd-81f6-243c11fcd6f1"
      },
      "execution_count": null,
      "outputs": [
        {
          "output_type": "stream",
          "name": "stdout",
          "text": [
            "apple\n",
            "banana\n",
            "cherry\n"
          ]
        }
      ]
    },
    {
      "cell_type": "code",
      "source": [
        "YAMINI = [\"VANILLA\", \"CHOCOLATE\", \"STRAWBWERRY\",\"PINEAPPLE\"]\n",
        "YAMINI.sort()\n",
        "print(YAMINI)"
      ],
      "metadata": {
        "colab": {
          "base_uri": "https://localhost:8080/"
        },
        "id": "cv1nljhUMDXJ",
        "outputId": "3e5d640d-145f-48b1-add4-32d244b2527e"
      },
      "execution_count": null,
      "outputs": [
        {
          "output_type": "stream",
          "name": "stdout",
          "text": [
            "['CHOCOLATE', 'PINEAPPLE', 'STRAWBWERRY', 'VANILLA']\n"
          ]
        }
      ]
    },
    {
      "cell_type": "code",
      "source": [
        "YAMINI = [100, 150, 200, 250, 300]\n",
        "YAMINI.sort()\n",
        "print(YAMINI)"
      ],
      "metadata": {
        "colab": {
          "base_uri": "https://localhost:8080/"
        },
        "id": "vcQizYUSMQyG",
        "outputId": "aa4fd67d-b3e2-42a8-f28e-65ecd47db3b4"
      },
      "execution_count": null,
      "outputs": [
        {
          "output_type": "stream",
          "name": "stdout",
          "text": [
            "[100, 150, 200, 250, 300]\n"
          ]
        }
      ]
    },
    {
      "cell_type": "code",
      "source": [
        "YAMINI = [\"VANILLA\", \"CHOCOLATE\", \"STRAWBWERRY\",\"BLACKFOREST\",\"PINEAPPLE\"]\n",
        "YAMINI.sort(reverse = True)\n",
        "print(YAMINI)"
      ],
      "metadata": {
        "colab": {
          "base_uri": "https://localhost:8080/"
        },
        "id": "gxcMuL7mMg2T",
        "outputId": "c957f6c1-d16c-4763-f773-2ca3c1ec71c5"
      },
      "execution_count": null,
      "outputs": [
        {
          "output_type": "stream",
          "name": "stdout",
          "text": [
            "['pineapple', 'orange', 'mango', 'kiwi', 'banana']\n"
          ]
        }
      ]
    },
    {
      "cell_type": "code",
      "source": [
        "YAMINI = [100, 150, 200, 250, 300]\n",
        "YAMINI.sort(reverse = True)\n",
        "print(YAMINI)"
      ],
      "metadata": {
        "colab": {
          "base_uri": "https://localhost:8080/"
        },
        "id": "A4vph1IeMpL5",
        "outputId": "c01903f6-52a0-48d3-904f-f6453920801b"
      },
      "execution_count": null,
      "outputs": [
        {
          "output_type": "stream",
          "name": "stdout",
          "text": [
            "[300, 250, 200, 150, 100]\n"
          ]
        }
      ]
    },
    {
      "cell_type": "code",
      "source": [
        "def myfunc(n):\n",
        "  return abs(n - 50)\n",
        "\n",
        "YAMINI  = [100,150, 200, 250, 300]\n",
        "YAMINI .sort(key = myfunc)\n",
        "print(YAMINI )"
      ],
      "metadata": {
        "colab": {
          "base_uri": "https://localhost:8080/"
        },
        "id": "EXQvXeVvM-f0",
        "outputId": "75ef3a8c-eaad-44c4-9080-f319eea08078"
      },
      "execution_count": null,
      "outputs": [
        {
          "output_type": "stream",
          "name": "stdout",
          "text": [
            "[100, 150, 200, 250, 300]\n"
          ]
        }
      ]
    },
    {
      "cell_type": "code",
      "source": [
        "YAMINI = [\"apple\", \"banana\", \"cherry\"]\n",
        "YAMINI.sort(key = str.lower)\n",
        "print(YAMINI)\n"
      ],
      "metadata": {
        "colab": {
          "base_uri": "https://localhost:8080/"
        },
        "id": "AXCZm20BNN7y",
        "outputId": "2e312f77-ef7c-4e42-ccab-7d969b1482af"
      },
      "execution_count": null,
      "outputs": [
        {
          "output_type": "stream",
          "name": "stdout",
          "text": [
            "['apple', 'banana', 'cherry']\n"
          ]
        }
      ]
    },
    {
      "cell_type": "code",
      "source": [
        "YAMINI = [\"Plums\", \"banana\", \"cherry\"]\n",
        "YAMINI.reverse()\n",
        "print(YAMINI)"
      ],
      "metadata": {
        "colab": {
          "base_uri": "https://localhost:8080/"
        },
        "id": "nPucSrtwNd3m",
        "outputId": "1f881482-415e-4296-cdad-9fcc5564720f"
      },
      "execution_count": null,
      "outputs": [
        {
          "output_type": "stream",
          "name": "stdout",
          "text": [
            "['cherry', 'banana', 'Plums']\n"
          ]
        }
      ]
    },
    {
      "cell_type": "code",
      "source": [
        "YAMINI = [\"Plums\", \"banana\", \"cherry\"]\n",
        "YAMINI =YAMINI.copy()\n",
        "print(YAMINI)"
      ],
      "metadata": {
        "colab": {
          "base_uri": "https://localhost:8080/"
        },
        "id": "e2L9C55rN0k9",
        "outputId": "d3958451-799a-43d4-c4e1-a187e68e637c"
      },
      "execution_count": null,
      "outputs": [
        {
          "output_type": "stream",
          "name": "stdout",
          "text": [
            "['Plums', 'banana', 'cherry']\n"
          ]
        }
      ]
    },
    {
      "cell_type": "code",
      "source": [
        "YAMINI = [\"Plums\", \"banana\", \"cherry\"]\n",
        "CETTY = list(YAMINI)\n",
        "print(CETTY)"
      ],
      "metadata": {
        "colab": {
          "base_uri": "https://localhost:8080/"
        },
        "id": "txSUUuNQOQFF",
        "outputId": "d5d9d41d-1d80-44c9-de7a-b58f0143c182"
      },
      "execution_count": null,
      "outputs": [
        {
          "output_type": "stream",
          "name": "stdout",
          "text": [
            "['Plums', 'banana', 'cherry']\n"
          ]
        }
      ]
    },
    {
      "cell_type": "code",
      "source": [
        "list1 = [\"AA\", \"BB\", \"CC\"]\n",
        "list2 = [11, 22, 33]\n",
        "\n",
        "list3 = list1 +  list2\n",
        "print(list3)"
      ],
      "metadata": {
        "colab": {
          "base_uri": "https://localhost:8080/"
        },
        "id": "ZThX0KqeOj7M",
        "outputId": "45dc7d0b-4548-4365-adeb-ef3bd5408538"
      },
      "execution_count": null,
      "outputs": [
        {
          "output_type": "stream",
          "name": "stdout",
          "text": [
            "['AA', 'BB', 'CC', 11, 22, 33]\n"
          ]
        }
      ]
    },
    {
      "cell_type": "code",
      "source": [
        "list1 = [\"AA\", \"BB\" , \"CC\"]\n",
        "list2 = [11, 22, 33]\n",
        "\n",
        "for x in list2:\n",
        "  list1.append(x)\n",
        "\n",
        "print(list1)"
      ],
      "metadata": {
        "colab": {
          "base_uri": "https://localhost:8080/"
        },
        "id": "SsJx0oD5Oq6S",
        "outputId": "1f377cdd-ae46-44bf-c884-9765b630e6ea"
      },
      "execution_count": null,
      "outputs": [
        {
          "output_type": "stream",
          "name": "stdout",
          "text": [
            "['AA', 'BB', 'CC', 11, 22, 33]\n"
          ]
        }
      ]
    },
    {
      "cell_type": "code",
      "source": [
        "list1 = [\"AA\", \"BB\" , \"CC\"]\n",
        "list2 = [13, 23, 33]\n",
        "\n",
        "list1.extend(list2)\n",
        "print(list1)\n"
      ],
      "metadata": {
        "colab": {
          "base_uri": "https://localhost:8080/"
        },
        "id": "u5MNVIUXO9ms",
        "outputId": "bbc55f67-e736-4c01-fe89-fe965ae842fa"
      },
      "execution_count": null,
      "outputs": [
        {
          "output_type": "stream",
          "name": "stdout",
          "text": [
            "['AA', 'BB', 'CC', 13, 23, 33]\n"
          ]
        }
      ]
    },
    {
      "cell_type": "code",
      "source": [
        ""
      ],
      "metadata": {
        "id": "mko6DxqpPW0O"
      },
      "execution_count": null,
      "outputs": []
    }
  ]
}