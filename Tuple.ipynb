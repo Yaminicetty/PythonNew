{
  "nbformat": 4,
  "nbformat_minor": 0,
  "metadata": {
    "colab": {
      "name": "Tuple.ipynb",
      "provenance": [],
      "collapsed_sections": [],
      "authorship_tag": "ABX9TyMe5VIpnNlsCzuUGItQPD5p",
      "include_colab_link": true
    },
    "kernelspec": {
      "name": "python3",
      "display_name": "Python 3"
    },
    "language_info": {
      "name": "python"
    }
  },
  "cells": [
    {
      "cell_type": "markdown",
      "metadata": {
        "id": "view-in-github",
        "colab_type": "text"
      },
      "source": [
        "<a href=\"https://colab.research.google.com/github/Yaminicetty/PythonNew/blob/Module-2/Tuple.ipynb\" target=\"_parent\"><img src=\"https://colab.research.google.com/assets/colab-badge.svg\" alt=\"Open In Colab\"/></a>"
      ]
    },
    {
      "cell_type": "code",
      "execution_count": null,
      "metadata": {
        "id": "rDV3_7jbYiNs"
      },
      "outputs": [],
      "source": [
        "#TUPLE"
      ]
    },
    {
      "cell_type": "code",
      "source": [
        "(tuple)=(\"table\", \"chair\", \"pegion\")\n",
        "print(tuple)\n",
        "tuple = (\"table\", \"chair\", \"pegion\",\"parrot\",\"penguin\")\n",
        "print(tuple)\n"
      ],
      "metadata": {
        "colab": {
          "base_uri": "https://localhost:8080/"
        },
        "id": "E2BfMoLIcNNL",
        "outputId": "e469fc1f-592c-49f3-e979-dd640f57a0ac"
      },
      "execution_count": null,
      "outputs": [
        {
          "output_type": "stream",
          "name": "stdout",
          "text": [
            "('table', 'chair', 'pegion')\n",
            "('table', 'chair', 'pegion', 'parrot', 'penguin')\n"
          ]
        }
      ]
    },
    {
      "cell_type": "code",
      "source": [
        "#tuple length\n",
        "tuple = (\"table\", \"chair\", \"pegion\")\n",
        "print(len(tuple))\n"
      ],
      "metadata": {
        "id": "yLXKRz8kckzq",
        "colab": {
          "base_uri": "https://localhost:8080/"
        },
        "outputId": "1217c318-b91b-42d1-f128-006cd0447775"
      },
      "execution_count": null,
      "outputs": [
        {
          "output_type": "stream",
          "name": "stdout",
          "text": [
            "3\n"
          ]
        }
      ]
    },
    {
      "cell_type": "code",
      "source": [
        "#One item tuple\n",
        "tuple = (\"table\",)\n",
        "print(type(tuple))\n",
        "\n",
        "#NOT a tuple(should not be done)\n",
        "#tuple = (\"table\")\n",
        "#print(type(tuple))"
      ],
      "metadata": {
        "colab": {
          "base_uri": "https://localhost:8080/"
        },
        "id": "BZR4TNn7xXRD",
        "outputId": "87d5d7c1-2505-4ab6-85f0-5f951f978f30"
      },
      "execution_count": null,
      "outputs": [
        {
          "output_type": "stream",
          "name": "stdout",
          "text": [
            "<class 'tuple'>\n"
          ]
        }
      ]
    },
    {
      "cell_type": "code",
      "source": [
        "#String,int and boolean data types\n",
        "tuple1 = (\"table\",\"chair\",\"pegion\")\n",
        "tuple2 = (2.5,9,3.8,23)\n",
        "tuple3 = (True,True,True)\n",
        "print(tuple1)\n",
        "print(tuple2)\n",
        "print(tuple3)\n",
        "\n",
        "#tuple with all variables\n",
        "tuple1=(\"table\",2.5,9,3,False,\"male\")\n",
        "print(tuple1)"
      ],
      "metadata": {
        "colab": {
          "base_uri": "https://localhost:8080/"
        },
        "id": "SJ60Z15rxyeS",
        "outputId": "612ee4be-ca1a-4d46-c97c-df26ab67f584"
      },
      "execution_count": null,
      "outputs": [
        {
          "output_type": "stream",
          "name": "stdout",
          "text": [
            "('table', 'chair', 'pegion')\n",
            "(2.5, 9, 3.8, 23)\n",
            "(True, True, True)\n",
            "('table', 2.5, 9, 3, False, 'male')\n"
          ]
        }
      ]
    },
    {
      "cell_type": "code",
      "source": [
        "#print second item in the tupple\n",
        "tuple = (\"table\", \"chair\", \"pegion\")\n",
        "print(tuple[1])"
      ],
      "metadata": {
        "colab": {
          "base_uri": "https://localhost:8080/"
        },
        "id": "N98NGe8zx7yR",
        "outputId": "6ce42859-02bb-463b-c60a-0e8d498ba475"
      },
      "execution_count": null,
      "outputs": [
        {
          "output_type": "stream",
          "name": "stdout",
          "text": [
            "chair\n"
          ]
        }
      ]
    },
    {
      "cell_type": "code",
      "source": [
        "a = tuple(('apple', 'banana', 'cherry'))\n",
        "print(a)\n",
        "\n"
      ],
      "metadata": {
        "colab": {
          "base_uri": "https://localhost:8080/"
        },
        "id": "tE6RRiZOziaG",
        "outputId": "680bc0cc-942f-4710-8709-a09eb8e802e5"
      },
      "execution_count": 1,
      "outputs": [
        {
          "output_type": "stream",
          "name": "stdout",
          "text": [
            "('apple', 'banana', 'cherry')\n"
          ]
        }
      ]
    },
    {
      "cell_type": "code",
      "source": [
        "#last item of the tuple\n",
        "tuple = (\"apple\", \"banana\", \"cherry\")\n",
        "print(tuple[-1])"
      ],
      "metadata": {
        "colab": {
          "base_uri": "https://localhost:8080/"
        },
        "id": "eIRWHwtL1LiC",
        "outputId": "53f767e5-85c5-400e-94d5-a8bcfed4e189"
      },
      "execution_count": null,
      "outputs": [
        {
          "output_type": "stream",
          "name": "stdout",
          "text": [
            "cherry\n"
          ]
        }
      ]
    },
    {
      "cell_type": "code",
      "source": [
        "tuple = (\"table\", \"chair\", \"pegion\",\"parrot\",\"penguin\",\"peacock\")\n",
        "print(tuple[2:5])"
      ],
      "metadata": {
        "colab": {
          "base_uri": "https://localhost:8080/"
        },
        "id": "UWZfyavR41rB",
        "outputId": "760dc92c-08e6-4ece-c754-87a142ae3d03"
      },
      "execution_count": null,
      "outputs": [
        {
          "output_type": "stream",
          "name": "stdout",
          "text": [
            "('pegion', 'parrot', 'penguin')\n"
          ]
        }
      ]
    },
    {
      "cell_type": "code",
      "source": [
        "tuple = (\"table\", \"chair\", \"pegion\",\"parrot\",\"penguin\",\"peacock\")\n",
        "print(tuple[:3])"
      ],
      "metadata": {
        "colab": {
          "base_uri": "https://localhost:8080/"
        },
        "id": "mWvfGcoY5bSR",
        "outputId": "5c8d75e8-0756-4768-9ba3-0ff850613f58"
      },
      "execution_count": null,
      "outputs": [
        {
          "output_type": "stream",
          "name": "stdout",
          "text": [
            "('table', 'chair', 'pegion')\n"
          ]
        }
      ]
    },
    {
      "cell_type": "code",
      "source": [
        "tuple = (\"table\", \"chair\", \"pegion\",\"parrot\",\"penguin\",\"peacock\")\n",
        "print(tuple[3:])"
      ],
      "metadata": {
        "colab": {
          "base_uri": "https://localhost:8080/"
        },
        "id": "I38Xt_K95lrw",
        "outputId": "5db6e60d-761e-4f66-91c9-c53886cf7532"
      },
      "execution_count": null,
      "outputs": [
        {
          "output_type": "stream",
          "name": "stdout",
          "text": [
            "('parrot', 'penguin', 'peacock')\n"
          ]
        }
      ]
    },
    {
      "cell_type": "code",
      "source": [
        "tuple = (\"table\", \"chair\", \"pegion\",\"parrot\",\"penguin\",\"peacock\")\n",
        "print(tuple[-3:-1])\n"
      ],
      "metadata": {
        "colab": {
          "base_uri": "https://localhost:8080/"
        },
        "id": "-yA6Z9jj5sWH",
        "outputId": "b2ee0d89-375b-4ec1-ef0c-5cc419545103"
      },
      "execution_count": null,
      "outputs": [
        {
          "output_type": "stream",
          "name": "stdout",
          "text": [
            "('parrot', 'penguin')\n"
          ]
        }
      ]
    },
    {
      "cell_type": "code",
      "source": [
        ""
      ],
      "metadata": {
        "id": "V7ugrxDS56Ux"
      },
      "execution_count": null,
      "outputs": []
    }
  ]
}