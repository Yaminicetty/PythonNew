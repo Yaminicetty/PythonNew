{
  "nbformat": 4,
  "nbformat_minor": 0,
  "metadata": {
    "colab": {
      "name": "ASSIGNMENT 3.ipynb",
      "provenance": [],
      "collapsed_sections": [],
      "authorship_tag": "ABX9TyPN5Dpe2UW+Iu/mfsbfEdmp",
      "include_colab_link": true
    },
    "kernelspec": {
      "name": "python3",
      "display_name": "Python 3"
    },
    "language_info": {
      "name": "python"
    }
  },
  "cells": [
    {
      "cell_type": "markdown",
      "metadata": {
        "id": "view-in-github",
        "colab_type": "text"
      },
      "source": [
        "<a href=\"https://colab.research.google.com/github/Yaminicetty/PythonNew/blob/Module-3/ASSIGNMENT_3.ipynb\" target=\"_parent\"><img src=\"https://colab.research.google.com/assets/colab-badge.svg\" alt=\"Open In Colab\"/></a>"
      ]
    },
    {
      "cell_type": "code",
      "source": [
        "#write a program to read any month number in integer ansd display the number of days for this month.\n",
        "\n",
        "a=int(input(\"Enter the month number : \"))\n",
        "b=[4,6,9,11]\n",
        "if a==2:\n",
        "    print(\"28/29\");\n",
        "\n",
        "elif a in b:\n",
        "    print(\"30\");\n",
        "\n",
        "elif(a<=12):\n",
        "    print(\"31\");\n",
        "\n",
        "else :\n",
        "    print(\"Please enter correct choice\");"
      ],
      "metadata": {
        "id": "qbDWXUN-Vb4L",
        "colab": {
          "base_uri": "https://localhost:8080/"
        },
        "outputId": "a26764c1-e284-4507-8070-9069c9eac5e9"
      },
      "execution_count": null,
      "outputs": [
        {
          "output_type": "stream",
          "name": "stdout",
          "text": [
            "Enter the month number :  5\n",
            "31\n"
          ]
        }
      ]
    },
    {
      "cell_type": "code",
      "source": [
        "#write a program to print prime numbers in a given range \n",
        "a=input(\"Enter a string:\")\n",
        "b=a.split\n",
        "for i in b:\n",
        "  if len (i)%2==0:\n",
        "    print(i)"
      ],
      "metadata": {
        "id": "KuZTexFxWdgc"
      },
      "execution_count": null,
      "outputs": []
    },
    {
      "cell_type": "code",
      "source": [
        "a=int(input(\"Enter the number 1\"))\n",
        "b=int(input(\"Enter the number 2\"))\n",
        "if a<b:\n",
        " for i in range(a,b+1):\n",
        "  print(i)\n",
        "else:\n",
        " for i in range(a,b-1):\n",
        "  print(i)"
      ],
      "metadata": {
        "id": "vQzUWqO7gFq6"
      },
      "execution_count": null,
      "outputs": []
    },
    {
      "cell_type": "code",
      "source": [
        "a=(input(\"enter the string\"))\n",
        "b=a.split()\n",
        "for i in b:\n",
        "  if len(i)%2==0:\n",
        "   print(i)\n"
      ],
      "metadata": {
        "id": "NEp0UfhAl8j6",
        "colab": {
          "base_uri": "https://localhost:8080/"
        },
        "outputId": "0a844913-59c1-40d2-c509-f4253c963393"
      },
      "execution_count": null,
      "outputs": [
        {
          "name": "stdout",
          "output_type": "stream",
          "text": [
            "enter the stringo\n"
          ]
        }
      ]
    },
    {
      "cell_type": "code",
      "source": [
        "#write a python program to find power of number with recursion and without recursion(input n=2 , p=3)\n",
        "#without recurssion\n",
        "def pow(x,y):\n",
        "   print(x**y)\n",
        "a,b = map(int(input().split))   \n",
        "pow(a,b)\n",
        "\n",
        "\n"
      ],
      "metadata": {
        "id": "J6D6kDbblmhk"
      },
      "execution_count": null,
      "outputs": []
    },
    {
      "cell_type": "code",
      "source": [
        "333\n",
        "#write a python program that prints 1 if all three given numbers are ascending order.x = int(input(\"Input first number: \"))\n",
        "a,b,c=map(int,input().split())\n",
        "if b!=a+1 or c!=b+1:\n",
        " print(0)\n",
        "elif b==a+1 and c==b+1:\n",
        " print(1) \n"
      ],
      "metadata": {
        "colab": {
          "base_uri": "https://localhost:8080/"
        },
        "id": "i3ALgOdImcTz",
        "outputId": "64e250b7-6a9a-4fdc-ad71-ba21ff01fc17"
      },
      "execution_count": null,
      "outputs": [
        {
          "output_type": "stream",
          "name": "stdout",
          "text": [
            "2 3 4\n",
            "1\n"
          ]
        }
      ]
    },
    {
      "cell_type": "code",
      "source": [
        "#write a program to sort tuple by total digits (input: list=[(3,4,6,723),(1,2),(134,234,34)])\n",
        "#      output:[(1,2)(3,4,6,723)(34,134,234)]\n",
        "a=[(3,4,6,723),(1,2),(134,234,34)]\n",
        "a.sort()\n",
        "print(a)\n"
      ],
      "metadata": {
        "colab": {
          "base_uri": "https://localhost:8080/"
        },
        "id": "L9AFHzjYmdnx",
        "outputId": "8a215946-22be-4093-d42f-60e523c8607f"
      },
      "execution_count": null,
      "outputs": [
        {
          "output_type": "stream",
          "name": "stdout",
          "text": [
            "[(1, 2), (3, 4, 6, 723), (134, 234, 34)]\n"
          ]
        }
      ]
    },
    {
      "cell_type": "code",
      "source": [
        "##write a program to sort tuple by total digits (input: list=[(3,4,6,723),(1,2),(134,234,34)])\n",
        "a=eval(input(\"enter list of the tuples\"))\n",
        "b=sorted(a)\n",
        "print(b)"
      ],
      "metadata": {
        "colab": {
          "base_uri": "https://localhost:8080/"
        },
        "id": "2AaXRa1enYGD",
        "outputId": "e707156f-0d5a-4c15-b34a-8d3141fc4954"
      },
      "execution_count": null,
      "outputs": [
        {
          "output_type": "stream",
          "name": "stdout",
          "text": [
            "enter list of the tuples[(3,4,6,723),(1,2),(134,234,34)]\n",
            "[(1, 2), (3, 4, 6, 723), (134, 234, 34)]\n"
          ]
        }
      ]
    },
    {
      "cell_type": "code",
      "source": [
        "#print sum of even digits in a given number"
      ],
      "metadata": {
        "id": "k01hqeAFp16y"
      },
      "execution_count": null,
      "outputs": []
    },
    {
      "cell_type": "code",
      "source": [
        "# Python program to find the largest number among the three input numbers\n",
        "\n",
        "num1 = 50\n",
        "num2 = 15\n",
        "num3 = 2\n",
        "if (num1 >= num2) and (num1 >= num3):\n",
        "   largest = num1\n",
        "elif (num2 >= num1) and (num2 >= num3):\n",
        "   largest = num2\n",
        "else:\n",
        "   largest = num3\n",
        "\n",
        "print(\"The largest number is\", largest)"
      ],
      "metadata": {
        "colab": {
          "base_uri": "https://localhost:8080/"
        },
        "id": "OQCIz1mRsTMR",
        "outputId": "70218a0f-12d1-4aea-d804-b1c7030f6d4a"
      },
      "execution_count": null,
      "outputs": [
        {
          "output_type": "stream",
          "name": "stdout",
          "text": [
            "The largest number is 50\n"
          ]
        }
      ]
    },
    {
      "cell_type": "code",
      "source": [
        "#Python program to count vowel or consonant of the given string\n",
        "str=input(\"Please enter a string as you wish: \");\n",
        "vowels=0\n",
        "consonants=0\n",
        "str.lower()#call the lower function to avoid upper case letter\n",
        "for i in str:\n",
        "    if(i == 'a'or i == 'e'or i == 'i'or i == 'o'or i == 'u' ):\n",
        "           vowels=vowels+1;\n",
        "    else:\n",
        "        consonants=consonants+1;\n",
        "print(\"The number of vowels:\",vowels);\n",
        "print(\"\\nThe number of consonant:\",consonants);"
      ],
      "metadata": {
        "colab": {
          "base_uri": "https://localhost:8080/"
        },
        "id": "zEXOGrijsZwh",
        "outputId": "472e5d94-f5df-4586-c4e4-a45559abba24"
      },
      "execution_count": null,
      "outputs": [
        {
          "output_type": "stream",
          "name": "stdout",
          "text": [
            "Please enter a string as you wish: Gitam university\n",
            "The number of vowels: 6\n",
            "\n",
            "The number of consonant: 10\n"
          ]
        }
      ]
    },
    {
      "cell_type": "code",
      "source": [
        "#write a program to calculate the sum of squares given by user(123=14)\n",
        "def SumofSquares(n):\n",
        "    s=0\n",
        "    for i in range(n+1):\n",
        "        s+=i**2\n",
        "    return s\n",
        "\n",
        "#input\n",
        "n=int(input(\"enter n: \"))\n",
        "print(\"sum of squares of first {} natural numbers: \".format(n),SumofSquares(n))\n"
      ],
      "metadata": {
        "colab": {
          "base_uri": "https://localhost:8080/"
        },
        "id": "ADgKRCvmu6bQ",
        "outputId": "f6150275-1a6d-4918-8d75-4432980d83f9"
      },
      "execution_count": null,
      "outputs": [
        {
          "output_type": "stream",
          "name": "stdout",
          "text": [
            "enter n: 5\n",
            "sum of squares of first 5 natural numbers:  55\n"
          ]
        }
      ]
    },
    {
      "cell_type": "code",
      "source": [
        "#round trip of 3+3=6 km.no of days and no of round trips.<40000 meters (need to walk more ) >40000 meters (good job)\n"
      ],
      "metadata": {
        "id": "scojtfo8xfsQ"
      },
      "execution_count": null,
      "outputs": []
    },
    {
      "cell_type": "code",
      "source": [
        "#perfect number\n",
        "\n",
        "a=int(input(\"enter the number\")) \n",
        "sum=0\n",
        "for i in range (1,a): \n",
        "  if a%i==0:\n",
        "sum = sum + i \n",
        "if sum==a:\n",
        " print(\"perfect number\")\n",
        "else:\n",
        " print(\"not a perfect number\")\n",
        "\n"
      ],
      "metadata": {
        "id": "WogUKNSVxzL_",
        "colab": {
          "base_uri": "https://localhost:8080/",
          "height": 130
        },
        "outputId": "c5467179-ff9c-48bd-c0ec-4d50d5a6eb3f"
      },
      "execution_count": null,
      "outputs": [
        {
          "output_type": "error",
          "ename": "IndentationError",
          "evalue": "ignored",
          "traceback": [
            "\u001b[0;36m  File \u001b[0;32m\"<ipython-input-5-1431e696dc91>\"\u001b[0;36m, line \u001b[0;32m7\u001b[0m\n\u001b[0;31m    sum = sum + i\u001b[0m\n\u001b[0m                  ^\u001b[0m\n\u001b[0;31mIndentationError\u001b[0m\u001b[0;31m:\u001b[0m expected an indented block\n"
          ]
        }
      ]
    },
    {
      "cell_type": "code",
      "source": [
        ""
      ],
      "metadata": {
        "id": "ADY4KO9-mZDH"
      },
      "execution_count": null,
      "outputs": []
    },
    {
      "cell_type": "code",
      "source": [
        "# Python program to check\n",
        "# if a string is palindrome\n",
        "# or not\n",
        " \n",
        "x = \"malayalam\"\n",
        " \n",
        "w = \"\"\n",
        "for i in x:\n",
        "    w = i + w\n",
        " \n",
        "if (x == w):\n",
        "    print(\"Yes\")\n",
        "else:\n",
        "    print(\"No\")"
      ],
      "metadata": {
        "colab": {
          "base_uri": "https://localhost:8080/"
        },
        "id": "J6hhQGLUnR9W",
        "outputId": "385b4086-595f-4e1b-a88e-6f00d6766f19"
      },
      "execution_count": null,
      "outputs": [
        {
          "output_type": "stream",
          "name": "stdout",
          "text": [
            "Yes\n"
          ]
        }
      ]
    },
    {
      "cell_type": "code",
      "source": [
        "#Accepting 5 different subject marks from user and displaying the grade of the student \n",
        "sub1=int(input(\"Enter marks of the first subject: \"))\n",
        "sub2=int(input(\"Enter marks of the second subject: \"))\n",
        "sub3=int(input(\"Enter marks of the third subject: \"))\n",
        "sub4=int(input(\"Enter marks of the fourth subject: \")) \n",
        "sub5=int(input(\"Enter marks of the fifth subject: \"))\n",
        "avg=(sub1+sub2+sub3+sub4+sub4)/5\n",
        "if (avg>=90):\n",
        " print(\"Grade: A\")\n",
        "elif (avg>=80 and avg<90):\n",
        " print(\"Grade: B\")\n",
        "elif (avg>=70 and avg<80):\n",
        " print(\"Grade: C\")\n",
        "elif (avg>=60 and avg<70):\n",
        " print(\"Grade: D\") \n",
        "else:\n",
        " print(\"Grade: F\")\n",
        "\n"
      ],
      "metadata": {
        "colab": {
          "base_uri": "https://localhost:8080/"
        },
        "id": "hDEEfrwAnjUF",
        "outputId": "76fdbc21-8098-4396-db75-2bea408ce0c0"
      },
      "execution_count": null,
      "outputs": [
        {
          "output_type": "stream",
          "name": "stdout",
          "text": [
            "Enter marks of the first subject: 25\n",
            "Enter marks of the second subject: 50\n",
            "Enter marks of the third subject: 75\n",
            "Enter marks of the fourth subject: 90\n",
            "Enter marks of the fifth subject: 45\n",
            "Grade: D\n"
          ]
        }
      ]
    },
    {
      "cell_type": "code",
      "source": [
        " "
      ],
      "metadata": {
        "id": "2H7n1SAan_Tt"
      },
      "execution_count": null,
      "outputs": []
    }
  ]
}