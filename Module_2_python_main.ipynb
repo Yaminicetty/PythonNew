{
  "nbformat": 4,
  "nbformat_minor": 0,
  "metadata": {
    "colab": {
      "name": "Module 2 python main.ipynb",
      "provenance": [],
      "collapsed_sections": [],
      "authorship_tag": "ABX9TyNmunuR+NpumiqHi4q4lUVK",
      "include_colab_link": true
    },
    "kernelspec": {
      "name": "python3",
      "display_name": "Python 3"
    },
    "language_info": {
      "name": "python"
    }
  },
  "cells": [
    {
      "cell_type": "markdown",
      "metadata": {
        "id": "view-in-github",
        "colab_type": "text"
      },
      "source": [
        "<a href=\"https://colab.research.google.com/github/Yaminicetty/PythonNew/blob/Module-2/Module_2_python_main.ipynb\" target=\"_parent\"><img src=\"https://colab.research.google.com/assets/colab-badge.svg\" alt=\"Open In Colab\"/></a>"
      ]
    },
    {
      "cell_type": "code",
      "execution_count": null,
      "metadata": {
        "id": "sOODvBDKleOf"
      },
      "outputs": [],
      "source": [
        "#1\n",
        "list = [(4, 5), (4, ), (8, 6, 7), (1, ), (3, 4, 6, 7)]\n",
        "k=2\n",
        "result = [a for a in list if len(a) != k]\n",
        "print(\"Resultant list : \" + str(result))"
      ]
    },
    {
      "cell_type": "code",
      "source": [
        "#2gcd\n",
        "def gcd(a, b):\n",
        "   if a == b:\n",
        "      return a\n",
        "   elif a < b:\n",
        "      return gcd(b, a)\n",
        "   else:\n",
        "      return gcd(b, a - b)\n",
        "\n",
        "a = 25\n",
        "b = 45\n",
        "print(gcd(a, b))"
      ],
      "metadata": {
        "id": "-f-LQLO72h4H"
      },
      "execution_count": null,
      "outputs": []
    },
    {
      "cell_type": "code",
      "source": [
        "# 3difference between the two lists\n",
        "list1 = [30,35, 45, 67, 98]\n",
        "list2=[10, 32, 24, 62, 17, 84]\n",
        "diff_list1_list2 = list(set(list1) - set(list2))\n",
        "diff_list2_list1 = list(set(list2) - set(list1))\n",
        "total_diff = diff_list1_list2 + diff_list2_list1\n",
        "print(total_diff)\n"
      ],
      "metadata": {
        "id": "md8YOpKh0lA0",
        "colab": {
          "base_uri": "https://localhost:8080/"
        },
        "outputId": "454f92d5-e649-4d79-8ffd-131f99ec8f48"
      },
      "execution_count": null,
      "outputs": [
        {
          "output_type": "stream",
          "name": "stdout",
          "text": [
            "[98, 35, 67, 45, 30, 32, 10, 17, 84, 24, 62]\n"
          ]
        }
      ]
    },
    {
      "cell_type": "code",
      "source": [
        "#4\n",
        "Yamini = [23, 42, 67, 89, 11, 32]\n",
        "print(\"The list is\" ):\n",
        "print(Yamini)\n",
        "print(“The resultant tuple is :”)\n",
        "Yamini = [(val, pow(val, 2)) for val in my_list]\n",
        "print(Yamini))"
      ],
      "metadata": {
        "id": "biu1TUcy_L0C"
      },
      "execution_count": 1,
      "outputs": []
    },
    {
      "cell_type": "code",
      "source": [
        "#5Program to remove a key from a dictionary\n",
        "myDict = {'a':1,'b':2,'c':3,'d':4}\n",
        "print(myDict)\n",
        "if 'a' in myDict: \n",
        "    del myDict['a']\n",
        "print(myDict)"
      ],
      "metadata": {
        "colab": {
          "base_uri": "https://localhost:8080/"
        },
        "id": "IA_PAw-o_vCz",
        "outputId": "3499a882-0643-4d26-b7af-de682b3fb0b5"
      },
      "execution_count": null,
      "outputs": [
        {
          "output_type": "stream",
          "name": "stdout",
          "text": [
            "{'a': 1, 'b': 2, 'c': 3, 'd': 4}\n",
            "{'b': 2, 'c': 3, 'd': 4}\n"
          ]
        }
      ]
    },
    {
      "cell_type": "code",
      "source": [
        "# 6to find max and min\n",
        "Yamini = {'x':500, 'y':5874, 'z': 560}\n",
        "\n",
        "key_max = max(Yamini.keys(), key=(lambda k: Yamini[k]))\n",
        "key_min = min(Yamini.keys(), key=(lambda k: Yamini[k]))\n",
        "\n",
        "print('Maximum Value: ',Yamini[key_max])\n",
        "print('Minimum Value: ',Yamini[key_min])\n"
      ],
      "metadata": {
        "colab": {
          "base_uri": "https://localhost:8080/"
        },
        "id": "468-zRvEAAyj",
        "outputId": "5b387db5-ab70-4099-f0bd-f83550a141e4"
      },
      "execution_count": null,
      "outputs": [
        {
          "output_type": "stream",
          "name": "stdout",
          "text": [
            "Maximum Value:  5874\n",
            "Minimum Value:  500\n"
          ]
        }
      ]
    },
    {
      "cell_type": "code",
      "source": [
        "#7Program to count the number of strings where the string length is 2 or more and\n",
        "#the first and last character are same from a given list of strings \n",
        "def Words(words):\n",
        "  thy = 0\n",
        "\n",
        "  for word in words:\n",
        "    if len(word) > 1 and word[0] == word[-1]:\n",
        "      thy += 1\n",
        "  return thy\n",
        "\n",
        "print(Words(['pqp', 'azby', 'mom', '2002']))"
      ],
      "metadata": {
        "colab": {
          "base_uri": "https://localhost:8080/"
        },
        "id": "4u0iE78yAL9C",
        "outputId": "0f4eef83-a7f9-4ac2-92c4-afc2f5375562"
      },
      "execution_count": null,
      "outputs": [
        {
          "output_type": "stream",
          "name": "stdout",
          "text": [
            "3\n"
          ]
        }
      ]
    },
    {
      "cell_type": "code",
      "source": [
        "#8Program to Acronym generator for any user input (ex-input is Random memory access\n",
        "#then output should be RMA).Example - Random number (RN)\n",
        "phrase = input(\"Enter the phrase: \")\n",
        "phrase_split = phrase.split()\n",
        "acronym = \"\"\n",
        "for i in phrase_split:\n",
        "  acronym = acronym + i[0].upper()\n",
        "  \n",
        "print(\"The acronym for your phrase is \",acronym + \".\")"
      ],
      "metadata": {
        "id": "O14QXTFEDzJV",
        "colab": {
          "base_uri": "https://localhost:8080/"
        },
        "outputId": "9142a701-5bb3-4c84-83c4-6aa93fb2641c"
      },
      "execution_count": null,
      "outputs": [
        {
          "output_type": "stream",
          "name": "stdout",
          "text": [
            "Enter the phrase: Random Memory Access\n",
            "The acronym for your phrase is  RMA.\n"
          ]
        }
      ]
    },
    {
      "cell_type": "code",
      "source": [
        "#9Program for replacing one substring by another \n",
        "string = input(\"Enter the full string: \")\n",
        "substring = input(\"Enter the substring to be replaced:\")\n",
        "replacing_string = input(\"Enter the string to be replaced:\")\n",
        "print (string.replace(substring, replacing_string))"
      ],
      "metadata": {
        "colab": {
          "base_uri": "https://localhost:8080/"
        },
        "id": "K2Xb9J1J14fm",
        "outputId": "68bd228f-af40-42c1-f949-232ce874b915"
      },
      "execution_count": null,
      "outputs": [
        {
          "output_type": "stream",
          "name": "stdout",
          "text": [
            "Enter the full string: rabbit\n",
            "Enter the substring to be replaced:bb\n",
            "Enter the string to be replaced:cc\n",
            "raccit\n"
          ]
        }
      ]
    },
    {
      "cell_type": "code",
      "source": [
        "#10\n",
        "def find_len(list1):\n",
        "    length = len(list1)\n",
        "    list1.sort()\n",
        "    print(\"Largest element is:\", list1[length-1])\n",
        "    print(\"Smallest element is:\", list1[0])\n",
        "    print(\"Second Largest element is:\", list1[length-2])\n",
        "    print(\"Second Smallest element is:\", list1[1])\n",
        "list1=[12, 45, 2, 41, 31, 10, 8, 6, 4]\n",
        "Largest = find_len(list1)"
      ],
      "metadata": {
        "colab": {
          "base_uri": "https://localhost:8080/"
        },
        "id": "hqqvjArK2hW0",
        "outputId": "d7732224-7252-4496-84b2-0c48926c78c5"
      },
      "execution_count": null,
      "outputs": [
        {
          "output_type": "stream",
          "name": "stdout",
          "text": [
            "Largest element is: 45\n",
            "Smallest element is: 2\n",
            "Second Largest element is: 41\n",
            "Second Smallest element is: 4\n"
          ]
        }
      ]
    },
    {
      "cell_type": "code",
      "source": [
        "#11\n",
        "str=input(\"enter the string\")\n",
        "ele=int(input(\"enter the postion to access the string\"))\n",
        "if ele>=len(str):\n",
        "  print(\"index value is less than{}\".format(len(str)))\n",
        "else:\n",
        "  print(str[ele])\n",
        "list1 =str.split()\n",
        "print(list1)"
      ],
      "metadata": {
        "colab": {
          "base_uri": "https://localhost:8080/"
        },
        "id": "MgtVlEDN3dR0",
        "outputId": "1a40f896-09ab-4b49-8970-66a3f2a4cef8"
      },
      "execution_count": null,
      "outputs": [
        {
          "output_type": "stream",
          "name": "stdout",
          "text": [
            "enter the stringyamini\n",
            "enter the postion to access the string3\n",
            "i\n",
            "['yamini']\n"
          ]
        }
      ]
    },
    {
      "cell_type": "code",
      "source": [
        "#12\n",
        "string = input (\"Enter String : \")\n",
        "\n",
        "upp = low = 0\n",
        "\n",
        "for letter in string :\n",
        "\n",
        "   if ord(letter) in range (65,91):\n",
        "\n",
        "       upp = upp + 1\n",
        "\n",
        "   elif ord(letter) in range (97,123):\n",
        "\n",
        "       low = low + 1\n",
        "\n",
        "print(\"upper-case letter are : \",upp,\"\\nlower-case letter are : \",low)"
      ],
      "metadata": {
        "colab": {
          "base_uri": "https://localhost:8080/"
        },
        "id": "UhFh2KqS3-W2",
        "outputId": "08b2d33b-0378-4027-ffd0-5b4c6021cb5e"
      },
      "execution_count": null,
      "outputs": [
        {
          "output_type": "stream",
          "name": "stdout",
          "text": [
            "Enter String : YAmIni\n",
            "upper-case letter are :  3 \n",
            "lower-case letter are :  3\n"
          ]
        }
      ]
    },
    {
      "cell_type": "code",
      "source": [
        "#13\n",
        "def product(num1,num2):\n",
        "    if(num1<num2):\n",
        "        return product(num2,num1)\n",
        "    elif(num2!=0):\n",
        "         return(num1+product(num1,num2-1))\n",
        "    else:\n",
        "         return 0\n",
        "num1=int(input(\"Enter first number: \"))\n",
        "num2=int(input(\"Enter second number: \"))\n",
        "print(\"product is: \",product(num1,num2))"
      ],
      "metadata": {
        "colab": {
          "base_uri": "https://localhost:8080/"
        },
        "id": "mVIq1LPJ4J0j",
        "outputId": "e74af303-ae92-4046-a99c-f84ab4875c27"
      },
      "execution_count": null,
      "outputs": [
        {
          "output_type": "stream",
          "name": "stdout",
          "text": [
            "Enter first number: 23\n",
            "Enter second number: 34\n",
            "product is:  782\n"
          ]
        }
      ]
    },
    {
      "cell_type": "code",
      "source": [
        "#14\n",
        "str=input(\"enter the string\")\n",
        "ele=int(input(\"enter the postion to access the string\"))\n",
        "if ele>=len(str):\n",
        "  print(\"index value is less than{}\".format(len(str)))\n",
        "else:\n",
        "  print(str[ele])\n",
        "list1 =str.split()\n",
        "print(list1)"
      ],
      "metadata": {
        "id": "R0zYzhGu4lK0",
        "colab": {
          "base_uri": "https://localhost:8080/"
        },
        "outputId": "7bd66e38-a523-40cb-b852-9c904e96f9ea"
      },
      "execution_count": null,
      "outputs": [
        {
          "output_type": "stream",
          "name": "stdout",
          "text": [
            "enter the stringyamini\n",
            "enter the postion to access the string2\n",
            "m\n",
            "['yamini']\n"
          ]
        }
      ]
    },
    {
      "cell_type": "code",
      "source": [
        "#15\n",
        "lowerlimit = int(input(\"Enter some random lower limit =\"))\n",
        "upperlimit = int(input(\"Enter some random upper limit =\"))\n",
        "\n",
        "listOfTuples = [(k, k**2) for k in range(lowerlimit, upperlimit+1)]\n",
        "print('The list of Tuples are : ', listOfTuples)"
      ],
      "metadata": {
        "id": "efooqNbw6kjR"
      },
      "execution_count": null,
      "outputs": []
    },
    {
      "cell_type": "code",
      "source": [
        "#16\n",
        "def match_words(words):\n",
        "  ctr = 0\n",
        "\n",
        "  for word in words:\n",
        "    if len(word) > 1 and word[0] == word[-1]:\n",
        "      ctr += 1\n",
        "  return ctr\n",
        "\n",
        "print(match_words(['abc', 'xyz', 'aba', '1221']))"
      ],
      "metadata": {
        "colab": {
          "base_uri": "https://localhost:8080/"
        },
        "id": "3trdAiitSxJ1",
        "outputId": "20340378-f931-4a3c-956f-b8162d31cbf7"
      },
      "execution_count": null,
      "outputs": [
        {
          "output_type": "stream",
          "name": "stdout",
          "text": [
            "2\n"
          ]
        }
      ]
    },
    {
      "cell_type": "code",
      "source": [
        "#17\n",
        "def match_words(words):\n",
        "  ctr = 0\n",
        "\n",
        "  for word in words:\n",
        "    if len(word) > 1 and word[0] == word[-1]:\n",
        "      ctr += 1\n",
        "  return ctr\n",
        "\n",
        "print(match_words(['abc', 'xyz', 'aba', '1221']))"
      ],
      "metadata": {
        "colab": {
          "base_uri": "https://localhost:8080/"
        },
        "id": "SIy-jbMTVoZy",
        "outputId": "23b8df42-fa39-47be-86d0-2e44a9444696"
      },
      "execution_count": null,
      "outputs": [
        {
          "output_type": "stream",
          "name": "stdout",
          "text": [
            "2\n"
          ]
        }
      ]
    },
    {
      "cell_type": "code",
      "source": [
        "#18\n",
        "my_dict = {'x':500, 'y':5874, 'z': 560}\n",
        "\n",
        "key_max = max(my_dict.keys(), key=(lambda k: my_dict[k]))\n",
        "key_min = min(my_dict.keys(), key=(lambda k: my_dict[k]))\n",
        "\n",
        "print('Maximum Value: ',my_dict[key_max])\n",
        "print('Minimum Value: ',my_dict[key_min])\n",
        "\n",
        "\n"
      ],
      "metadata": {
        "colab": {
          "base_uri": "https://localhost:8080/"
        },
        "id": "7avbIjamVvQs",
        "outputId": "4ec26ef6-0277-4533-90c4-a55ddb59bef6"
      },
      "execution_count": null,
      "outputs": [
        {
          "output_type": "stream",
          "name": "stdout",
          "text": [
            "Maximum Value:  5874\n",
            "Minimum Value:  500\n"
          ]
        }
      ]
    },
    {
      "cell_type": "code",
      "source": [
        "#19\n",
        "def recur_fibo(n):\n",
        "   if n <= 1:\n",
        "       return n\n",
        "   else:\n",
        "       return(recur_fibo(n-1) + recur_fibo(n-2))\n",
        "nterms = 10\n",
        "\n",
        "if nterms <= 0:\n",
        "   print(\"Plese enter a positive integer\")\n",
        "else:\n",
        "   print(\"Fibonacci sequence:\")\n",
        "   for i in range(nterms):\n",
        "       print(recur_fibo(i))"
      ],
      "metadata": {
        "id": "9m5gCev5V0mx",
        "colab": {
          "base_uri": "https://localhost:8080/"
        },
        "outputId": "6f2e178d-ffd3-404d-f0f2-eef17926efc1"
      },
      "execution_count": null,
      "outputs": [
        {
          "output_type": "stream",
          "name": "stdout",
          "text": [
            "Fibonacci sequence:\n",
            "0\n",
            "1\n",
            "1\n",
            "2\n",
            "3\n",
            "5\n",
            "8\n",
            "13\n",
            "21\n",
            "34\n"
          ]
        }
      ]
    },
    {
      "cell_type": "code",
      "source": [
        "names= ['Arun','Swathi','Bharathi','Sai','Pallavi','Somu']\n",
        "first_letters = ['S']\n",
        "output_names = [name for name in names if (name[0] in first_letters)]\n",
        "output_names"
      ],
      "metadata": {
        "colab": {
          "base_uri": "https://localhost:8080/"
        },
        "id": "1Ctx0-6BW5iq",
        "outputId": "0c92cf0f-350a-4ae0-e18b-016a5dd99ea7"
      },
      "execution_count": null,
      "outputs": [
        {
          "output_type": "execute_result",
          "data": {
            "text/plain": [
              "['Swathi', 'Sai', 'Somu']"
            ]
          },
          "metadata": {},
          "execution_count": 4
        }
      ]
    },
    {
      "cell_type": "code",
      "source": [
        ""
      ],
      "metadata": {
        "id": "St99a7HbXceZ"
      },
      "execution_count": null,
      "outputs": []
    }
  ]
}