{
  "nbformat": 4,
  "nbformat_minor": 0,
  "metadata": {
    "colab": {
      "name": "Functions.ipynb",
      "provenance": [],
      "collapsed_sections": [],
      "authorship_tag": "ABX9TyPt1dnXcHaUxPs7cgLM+mNY",
      "include_colab_link": true
    },
    "kernelspec": {
      "name": "python3",
      "display_name": "Python 3"
    },
    "language_info": {
      "name": "python"
    }
  },
  "cells": [
    {
      "cell_type": "markdown",
      "metadata": {
        "id": "view-in-github",
        "colab_type": "text"
      },
      "source": [
        "<a href=\"https://colab.research.google.com/github/Yaminicetty/PythonNew/blob/Module-2/Functions.ipynb\" target=\"_parent\"><img src=\"https://colab.research.google.com/assets/colab-badge.svg\" alt=\"Open In Colab\"/></a>"
      ]
    },
    {
      "cell_type": "code",
      "execution_count": null,
      "metadata": {
        "id": "5dmHZt4PUg4L"
      },
      "outputs": [],
      "source": [
        "#FUNCTIONS"
      ]
    },
    {
      "cell_type": "code",
      "source": [
        "def yamini():\n",
        "  print(\"Hello! How you doing?\")\n",
        "yamini()"
      ],
      "metadata": {
        "colab": {
          "base_uri": "https://localhost:8080/"
        },
        "id": "4lIhlJb3VEPp",
        "outputId": "4952435f-96a6-4d6e-f23d-5f72cecfd7ed"
      },
      "execution_count": null,
      "outputs": [
        {
          "output_type": "stream",
          "name": "stdout",
          "text": [
            "Hello! How you doing?\n"
          ]
        }
      ]
    },
    {
      "cell_type": "code",
      "source": [
        "def yamini():\n",
        "  print(\"Hello from a function\")\n",
        "yamini()"
      ],
      "metadata": {
        "colab": {
          "base_uri": "https://localhost:8080/"
        },
        "id": "jyKUk95dVdCk",
        "outputId": "25977786-a8ad-4103-dc3c-ad1ffe542299"
      },
      "execution_count": null,
      "outputs": [
        {
          "output_type": "stream",
          "name": "stdout",
          "text": [
            "Hello from a function\n"
          ]
        }
      ]
    },
    {
      "cell_type": "code",
      "source": [
        "#ARGUMENTS                           \n",
        "def voting(g,n,a):\n",
        " print(n+\"Yamini \")\n",
        " print(g+\"Female \")\n",
        " print(a+\"18 \")\n",
        "voting(\"gender: \",\"name: \",\"age: \")"
      ],
      "metadata": {
        "colab": {
          "base_uri": "https://localhost:8080/"
        },
        "id": "S2jTaYIBVqLn",
        "outputId": "ce8f8ecc-7f13-4c1a-85cb-90bb52526a0d"
      },
      "execution_count": null,
      "outputs": [
        {
          "output_type": "stream",
          "name": "stdout",
          "text": [
            "name: Yamini \n",
            "gender: Female \n",
            "age: 18 \n"
          ]
        }
      ]
    },
    {
      "cell_type": "code",
      "source": [
        "def yamini(heyy):\n",
        "  print(heyy + \"people\")\n",
        "\n",
        "yamini(\"Good \")\n",
        "yamini(\"Bad \")\n",
        "yamini(\"Busy \")"
      ],
      "metadata": {
        "colab": {
          "base_uri": "https://localhost:8080/"
        },
        "id": "NUuZqk2QYi1Y",
        "outputId": "9a9706c3-3622-4be4-e373-31fade165530"
      },
      "execution_count": null,
      "outputs": [
        {
          "output_type": "stream",
          "name": "stdout",
          "text": [
            "Good people\n",
            "Bad people\n",
            "Busy people\n"
          ]
        }
      ]
    },
    {
      "cell_type": "code",
      "source": [
        "#with argument, without return\n",
        "def vote(name,age,gender):\n",
        " print(\"name of the person:\",name)\n",
        " print(\"age of the person:\",age)\n",
        " print(\"gender of the person:\",gender)\n",
        " if  age>=18:\n",
        "  print(\"elgible for voting\")\n",
        " else:\n",
        "  print(\"not eligible for voting \") \n",
        "vote('Yamini',18,'female')\n"
      ],
      "metadata": {
        "colab": {
          "base_uri": "https://localhost:8080/"
        },
        "id": "QV9XsbK6dZFG",
        "outputId": "36235405-8874-4748-ff26-bf78673f586b"
      },
      "execution_count": null,
      "outputs": [
        {
          "output_type": "stream",
          "name": "stdout",
          "text": [
            "name of the person: Yamini\n",
            "age of the person: 18\n",
            "gender of the person: female\n",
            "elgible for voting\n"
          ]
        }
      ]
    },
    {
      "cell_type": "code",
      "source": [
        "def yamini(*birds):\n",
        "  print(\"The largest bird is \" + birds[1])\n",
        "\n",
        "yamini(\"penguin\", \"ostrich\",\"peacock\")\n"
      ],
      "metadata": {
        "id": "Z8QVakD8fdzX",
        "colab": {
          "base_uri": "https://localhost:8080/"
        },
        "outputId": "92d2b49c-b069-4905-c914-19ee70dcbf2e"
      },
      "execution_count": null,
      "outputs": [
        {
          "output_type": "stream",
          "name": "stdout",
          "text": [
            "The largest bird is ostrich\n"
          ]
        }
      ]
    },
    {
      "cell_type": "code",
      "source": [
        ""
      ],
      "metadata": {
        "id": "cJWdV_1kgGAH"
      },
      "execution_count": null,
      "outputs": []
    }
  ]
}